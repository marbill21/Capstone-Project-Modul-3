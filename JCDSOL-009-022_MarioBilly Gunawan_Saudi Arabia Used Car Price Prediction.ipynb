{
 "cells": [
  {
   "attachments": {},
   "cell_type": "markdown",
   "metadata": {},
   "source": [
    "# Saudi Arabia Used Cars\n",
    "\n",
    "Source : [Saudi Arabia Used Cars Dataset](https://www.kaggle.com/datasets/turkibintalib/saudi-arabia-used-cars-dataset)\n",
    "****"
   ]
  },
  {
   "attachments": {},
   "cell_type": "markdown",
   "metadata": {},
   "source": [
    "### Contents\n",
    "\n",
    "1. Business Problem Understanding\n",
    "2. Data Understanding\n",
    "3. Data Preprocessing\n",
    "4. Modeling\n",
    "5. Conclusion\n",
    "6. Recommendation"
   ]
  },
  {
   "attachments": {},
   "cell_type": "markdown",
   "metadata": {},
   "source": [
    "## 1. Business Problem Understanding"
   ]
  },
  {
   "attachments": {},
   "cell_type": "markdown",
   "metadata": {},
   "source": [
    "### Context\n",
    "\n",
    "Pada saat ini, mobil menjadi salah satu kebutuhan utama bagi masyarakat perkotaan yang memiliki mobilitas tinggi. Mobil dapat memberikan rasa aman, nyaman, dan menghemat waktu bagi penggunanya, terutama apabila tidak ada transportasi umum yang memadai. Dalam memenuhi kebutuhan ini, konsumen tidak hanya tertarik dalam membeli mobil dengan keadaan baru, tetapi juga banyak yang tertarik untuk membeli mobil dalam keadaan bekas. Di negara Arab Saudi, terdapat sebuah platform jual-beli mobil bekas bernama Syarah.com. Pada platform ini, konsumen dapat mencari mobil bekas impian mereka dengan harga yang lebih murah dibandingkan dengan harga membeli mobil yang baru. Rata-rata kondisi dari setiap mobil bekas yang dijualpun juga dalam keadaan baik dan depresiasi harga cenderung tidak terlalu tinggi dibandingkan dengan mobil baru. Syarah.com sebagai platform penyedia jasa jual-beli mobil bekas ingin konsumen mendapatkan pengalaman yang terbaik ketika bertransaksi membeli mobil bekas. Oleh karena itu, Syarah.com menyewa seorang Data Scientist untuk membantu mereka dalam membuat sebuah model bisnis yang dapat memprediksi harga mobil bekas dan bisa menguntungkan kedua belah pihak antara pembeli dan penjual.\n",
    "\n",
    "Dataset terdiri atas 5624 data mobil bekas yang dikumpulkan dari Syarah.com. Setiap baris mewakili mobil bekas. Informasi lain yang mewakili setiap mobil adalah nama mobil, model mobil, tahun pembuatan, asal mobil, opsi kelengkapan mobil, kapasitas mesin, jenis transmisi, jarak tempuh yang pernah ditempuh mobil, harga berdasarkan wilayah, dan apakah mobil dapat dinegosiasikan. <br>\n",
    "\n",
    "Features : <br>\n",
    "- Type: Jenis mobil bekas.\n",
    "- Region: Wilayah dimana mobil bekas ditawarkan untuk dijual.\n",
    "- Make: Nama perusahaan pembuat mobil bekas.\n",
    "- Gear_Type: Jenis transmisi yang digunakan mobil bekas.\n",
    "- Origin: Asal mobil bekas.\n",
    "- Options: Opsi kelengkapan mobil bekas.\n",
    "- Year: Tahun produksi mobil bekas.\n",
    "- Engine_Size: Kapasitas mesin mobil bekas.\n",
    "- Mileage: Jarak tempuh mobil bekas.\t\n",
    "- Negotiable: Benar jika harga 0, berarti mobil bekas dapat dinegosiasi.\n",
    "- Price: Harga dari mobil bekas.\n"
   ]
  },
  {
   "attachments": {},
   "cell_type": "markdown",
   "metadata": {},
   "source": [
    "### Problem Statement\n",
    "Permasalahan yang dihadapi oleh Syarah.com adalah menentukan model bisnis yang dapat menguntungkan secara finansial untuk perusahaan ini dalam menjual mobil bekas. Tetapi juga memberikan pengalaman yang baik bagi para calon pembeli untuk mendapatkan mobil bekas layak pakai dengan harga yang wajar."
   ]
  },
  {
   "attachments": {},
   "cell_type": "markdown",
   "metadata": {},
   "source": [
    "### Goals\n",
    "Menentukan model bisnis yang dapat memprediksi dan membantu calon pembeli dalam mendapatkan harga yang wajar untuk setiap mobil bekas yang akan dibeli. Tetapi juga memberikan keuntungan bagi sang penjual mobil bekas, yaitu Syarah.com. "
   ]
  },
  {
   "attachments": {},
   "cell_type": "markdown",
   "metadata": {},
   "source": [
    "### Analytic Approach\n",
    "Melakukan analisa data untuk menemukan pola dari fitur-fitur yang ada dan dapat membedakan satu jenis mobil dengan jenis mobil lainnya. Kemudian membuat sebuah model regresi yang dapat membantu perusahaan dalam memprediksi harga jual yang tepat dan juga dapat bermanfaat bagi para calon pembeli dalam mendapatkan harga yang wajar untuk mobil bekas yang ingin mereka beli di Arab Saudi."
   ]
  },
  {
   "attachments": {},
   "cell_type": "markdown",
   "metadata": {},
   "source": [
    "### Metric Evaluation\n",
    "Evaluasi metrik yang akan digunakan dalam membangun model machine learning ini, yaitu:\n",
    "- R-Square  : Menjelaskan seberapa besar variasi nilai Y yang dapat dijelaskan oleh model.\n",
    "- RMSE      : Nilai rataan akar kuadrat dari error.\n",
    "- MAE       : Rataan nilai absolut dari error.\n",
    "- MAPE      : Rataan persentase error yang dihasilkan oleh suatu model regresi.\n",
    "\n",
    "Model akan semakin akurat dalam memprediksi harga suatu mobil bekas sesuai dengan limitasi fitur yang dipakai apabila nilai R-Square semakin mendekati nilai 1 dan nilai RMSE, MAE, dan MAPE yang dihasilkan semakin kecil."
   ]
  },
  {
   "attachments": {},
   "cell_type": "markdown",
   "metadata": {},
   "source": [
    "## 2. Data Understanding\n",
    "- Dataset berasal dari daftar mobil bekas yang dijual di Arab Saudi via syarah.com.\n",
    "- Informasi dan spesifikasi mengenai mobil yang dijual di syarah.com diwakili oleh setiap baris data.\n",
    "\n",
    "**Attributes Information**\n",
    "\n",
    "| **Attribute** | **Data Type** | **Description** |\n",
    "| --- | --- | --- |\n",
    "| Type | Object | Type of used car |\n",
    "| Region | Object | The region in which the used car was offered for sale |\n",
    "| Make | Object | The company name |\n",
    "| Gear_Type | Object | Gear type size of used car (Automatic / Manual) |\n",
    "| Origin | Object | Origin of used car (Saudi / Gulf Arabic / Other) |\n",
    "| Options | Object | Options of used car (Full / Semi-Full / Standard) |\n",
    "| Year | Integer | Manufacturing Year |\n",
    "| Engine_Size | Float | The engine size of used car |\n",
    "| Mileage | Integer | Mileage of used car |\n",
    "| Negotiable | Boolean | True if the price is 0, that means it is negotiable |\n",
    "| Price | Integer | Used car price |\n",
    "\n",
    "Atribut Price merupakan target kolom yang akan diprediksi (Dependent Variable) dan kolom-kolom lain merupakan faktor-faktor yang akan mempengaruhi hasil prediksi (Independent Variable)."
   ]
  },
  {
   "cell_type": "code",
   "execution_count": 1,
   "metadata": {},
   "outputs": [],
   "source": [
    "# Import Library\n",
    "import pandas as pd\n",
    "import numpy as np\n",
    "import matplotlib.pyplot as plt\n",
    "import seaborn as sns\n",
    "\n",
    "import warnings\n",
    "warnings.filterwarnings('ignore')"
   ]
  },
  {
   "cell_type": "code",
   "execution_count": 2,
   "metadata": {},
   "outputs": [
    {
     "data": {
      "text/html": [
       "<div>\n",
       "<style scoped>\n",
       "    .dataframe tbody tr th:only-of-type {\n",
       "        vertical-align: middle;\n",
       "    }\n",
       "\n",
       "    .dataframe tbody tr th {\n",
       "        vertical-align: top;\n",
       "    }\n",
       "\n",
       "    .dataframe thead th {\n",
       "        text-align: right;\n",
       "    }\n",
       "</style>\n",
       "<table border=\"1\" class=\"dataframe\">\n",
       "  <thead>\n",
       "    <tr style=\"text-align: right;\">\n",
       "      <th></th>\n",
       "      <th>Type</th>\n",
       "      <th>Region</th>\n",
       "      <th>Make</th>\n",
       "      <th>Gear_Type</th>\n",
       "      <th>Origin</th>\n",
       "      <th>Options</th>\n",
       "      <th>Year</th>\n",
       "      <th>Engine_Size</th>\n",
       "      <th>Mileage</th>\n",
       "      <th>Negotiable</th>\n",
       "      <th>Price</th>\n",
       "    </tr>\n",
       "  </thead>\n",
       "  <tbody>\n",
       "    <tr>\n",
       "      <th>0</th>\n",
       "      <td>Corolla</td>\n",
       "      <td>Abha</td>\n",
       "      <td>Toyota</td>\n",
       "      <td>Manual</td>\n",
       "      <td>Saudi</td>\n",
       "      <td>Standard</td>\n",
       "      <td>2013</td>\n",
       "      <td>1.4</td>\n",
       "      <td>421000</td>\n",
       "      <td>True</td>\n",
       "      <td>0</td>\n",
       "    </tr>\n",
       "    <tr>\n",
       "      <th>1</th>\n",
       "      <td>Yukon</td>\n",
       "      <td>Riyadh</td>\n",
       "      <td>GMC</td>\n",
       "      <td>Automatic</td>\n",
       "      <td>Saudi</td>\n",
       "      <td>Full</td>\n",
       "      <td>2014</td>\n",
       "      <td>8.0</td>\n",
       "      <td>80000</td>\n",
       "      <td>False</td>\n",
       "      <td>120000</td>\n",
       "    </tr>\n",
       "    <tr>\n",
       "      <th>2</th>\n",
       "      <td>Range Rover</td>\n",
       "      <td>Riyadh</td>\n",
       "      <td>Land Rover</td>\n",
       "      <td>Automatic</td>\n",
       "      <td>Gulf Arabic</td>\n",
       "      <td>Full</td>\n",
       "      <td>2015</td>\n",
       "      <td>5.0</td>\n",
       "      <td>140000</td>\n",
       "      <td>False</td>\n",
       "      <td>260000</td>\n",
       "    </tr>\n",
       "    <tr>\n",
       "      <th>3</th>\n",
       "      <td>Optima</td>\n",
       "      <td>Hafar Al-Batin</td>\n",
       "      <td>Kia</td>\n",
       "      <td>Automatic</td>\n",
       "      <td>Saudi</td>\n",
       "      <td>Semi Full</td>\n",
       "      <td>2015</td>\n",
       "      <td>2.4</td>\n",
       "      <td>220000</td>\n",
       "      <td>False</td>\n",
       "      <td>42000</td>\n",
       "    </tr>\n",
       "    <tr>\n",
       "      <th>4</th>\n",
       "      <td>FJ</td>\n",
       "      <td>Riyadh</td>\n",
       "      <td>Toyota</td>\n",
       "      <td>Automatic</td>\n",
       "      <td>Saudi</td>\n",
       "      <td>Full</td>\n",
       "      <td>2020</td>\n",
       "      <td>4.0</td>\n",
       "      <td>49000</td>\n",
       "      <td>True</td>\n",
       "      <td>0</td>\n",
       "    </tr>\n",
       "    <tr>\n",
       "      <th>5</th>\n",
       "      <td>CX3</td>\n",
       "      <td>Abha</td>\n",
       "      <td>Mazda</td>\n",
       "      <td>Automatic</td>\n",
       "      <td>Saudi</td>\n",
       "      <td>Semi Full</td>\n",
       "      <td>2019</td>\n",
       "      <td>2.0</td>\n",
       "      <td>25000</td>\n",
       "      <td>False</td>\n",
       "      <td>58000</td>\n",
       "    </tr>\n",
       "    <tr>\n",
       "      <th>6</th>\n",
       "      <td>Cayenne S</td>\n",
       "      <td>Riyadh</td>\n",
       "      <td>Porsche</td>\n",
       "      <td>Automatic</td>\n",
       "      <td>Saudi</td>\n",
       "      <td>Full</td>\n",
       "      <td>2012</td>\n",
       "      <td>4.8</td>\n",
       "      <td>189000</td>\n",
       "      <td>False</td>\n",
       "      <td>85000</td>\n",
       "    </tr>\n",
       "    <tr>\n",
       "      <th>7</th>\n",
       "      <td>Sonata</td>\n",
       "      <td>Riyadh</td>\n",
       "      <td>Hyundai</td>\n",
       "      <td>Automatic</td>\n",
       "      <td>Saudi</td>\n",
       "      <td>Full</td>\n",
       "      <td>2016</td>\n",
       "      <td>2.4</td>\n",
       "      <td>155</td>\n",
       "      <td>False</td>\n",
       "      <td>48000</td>\n",
       "    </tr>\n",
       "    <tr>\n",
       "      <th>8</th>\n",
       "      <td>Avalon</td>\n",
       "      <td>Riyadh</td>\n",
       "      <td>Toyota</td>\n",
       "      <td>Automatic</td>\n",
       "      <td>Saudi</td>\n",
       "      <td>Standard</td>\n",
       "      <td>2016</td>\n",
       "      <td>3.5</td>\n",
       "      <td>110864</td>\n",
       "      <td>False</td>\n",
       "      <td>81500</td>\n",
       "    </tr>\n",
       "    <tr>\n",
       "      <th>9</th>\n",
       "      <td>LS</td>\n",
       "      <td>Aseer</td>\n",
       "      <td>Lexus</td>\n",
       "      <td>Automatic</td>\n",
       "      <td>Saudi</td>\n",
       "      <td>Full</td>\n",
       "      <td>1998</td>\n",
       "      <td>4.6</td>\n",
       "      <td>300</td>\n",
       "      <td>True</td>\n",
       "      <td>0</td>\n",
       "    </tr>\n",
       "  </tbody>\n",
       "</table>\n",
       "</div>"
      ],
      "text/plain": [
       "          Type          Region        Make  Gear_Type       Origin    Options  \\\n",
       "0      Corolla            Abha      Toyota     Manual        Saudi   Standard   \n",
       "1        Yukon          Riyadh         GMC  Automatic        Saudi       Full   \n",
       "2  Range Rover          Riyadh  Land Rover  Automatic  Gulf Arabic       Full   \n",
       "3       Optima  Hafar Al-Batin         Kia  Automatic        Saudi  Semi Full   \n",
       "4           FJ          Riyadh      Toyota  Automatic        Saudi       Full   \n",
       "5          CX3            Abha       Mazda  Automatic        Saudi  Semi Full   \n",
       "6    Cayenne S          Riyadh     Porsche  Automatic        Saudi       Full   \n",
       "7       Sonata          Riyadh     Hyundai  Automatic        Saudi       Full   \n",
       "8       Avalon          Riyadh      Toyota  Automatic        Saudi   Standard   \n",
       "9           LS           Aseer       Lexus  Automatic        Saudi       Full   \n",
       "\n",
       "   Year  Engine_Size  Mileage  Negotiable   Price  \n",
       "0  2013          1.4   421000        True       0  \n",
       "1  2014          8.0    80000       False  120000  \n",
       "2  2015          5.0   140000       False  260000  \n",
       "3  2015          2.4   220000       False   42000  \n",
       "4  2020          4.0    49000        True       0  \n",
       "5  2019          2.0    25000       False   58000  \n",
       "6  2012          4.8   189000       False   85000  \n",
       "7  2016          2.4      155       False   48000  \n",
       "8  2016          3.5   110864       False   81500  \n",
       "9  1998          4.6      300        True       0  "
      ]
     },
     "execution_count": 2,
     "metadata": {},
     "output_type": "execute_result"
    }
   ],
   "source": [
    "# Load Dataset\n",
    "df_SaudiCars = pd.read_csv('data_saudi_used_cars.csv')\n",
    "df_SaudiCars.head(10)"
   ]
  },
  {
   "attachments": {},
   "cell_type": "markdown",
   "metadata": {},
   "source": [
    "### Exploratory Data Analysis"
   ]
  },
  {
   "cell_type": "code",
   "execution_count": 3,
   "metadata": {},
   "outputs": [
    {
     "name": "stdout",
     "output_type": "stream",
     "text": [
      "<class 'pandas.core.frame.DataFrame'>\n",
      "RangeIndex: 5624 entries, 0 to 5623\n",
      "Data columns (total 11 columns):\n",
      " #   Column       Non-Null Count  Dtype  \n",
      "---  ------       --------------  -----  \n",
      " 0   Type         5624 non-null   object \n",
      " 1   Region       5624 non-null   object \n",
      " 2   Make         5624 non-null   object \n",
      " 3   Gear_Type    5624 non-null   object \n",
      " 4   Origin       5624 non-null   object \n",
      " 5   Options      5624 non-null   object \n",
      " 6   Year         5624 non-null   int64  \n",
      " 7   Engine_Size  5624 non-null   float64\n",
      " 8   Mileage      5624 non-null   int64  \n",
      " 9   Negotiable   5624 non-null   bool   \n",
      " 10  Price        5624 non-null   int64  \n",
      "dtypes: bool(1), float64(1), int64(3), object(6)\n",
      "memory usage: 445.0+ KB\n"
     ]
    }
   ],
   "source": [
    "df_SaudiCars.info()"
   ]
  },
  {
   "cell_type": "code",
   "execution_count": 4,
   "metadata": {},
   "outputs": [
    {
     "data": {
      "text/html": [
       "<div>\n",
       "<style scoped>\n",
       "    .dataframe tbody tr th:only-of-type {\n",
       "        vertical-align: middle;\n",
       "    }\n",
       "\n",
       "    .dataframe tbody tr th {\n",
       "        vertical-align: top;\n",
       "    }\n",
       "\n",
       "    .dataframe thead th {\n",
       "        text-align: right;\n",
       "    }\n",
       "</style>\n",
       "<table border=\"1\" class=\"dataframe\">\n",
       "  <thead>\n",
       "    <tr style=\"text-align: right;\">\n",
       "      <th></th>\n",
       "      <th>Year</th>\n",
       "      <th>Engine_Size</th>\n",
       "      <th>Mileage</th>\n",
       "      <th>Price</th>\n",
       "    </tr>\n",
       "  </thead>\n",
       "  <tbody>\n",
       "    <tr>\n",
       "      <th>count</th>\n",
       "      <td>5624.000000</td>\n",
       "      <td>5624.000000</td>\n",
       "      <td>5.624000e+03</td>\n",
       "      <td>5624.000000</td>\n",
       "    </tr>\n",
       "    <tr>\n",
       "      <th>mean</th>\n",
       "      <td>2014.101885</td>\n",
       "      <td>3.295430</td>\n",
       "      <td>1.509234e+05</td>\n",
       "      <td>53074.058144</td>\n",
       "    </tr>\n",
       "    <tr>\n",
       "      <th>std</th>\n",
       "      <td>5.791606</td>\n",
       "      <td>1.515108</td>\n",
       "      <td>3.828360e+05</td>\n",
       "      <td>70155.340614</td>\n",
       "    </tr>\n",
       "    <tr>\n",
       "      <th>min</th>\n",
       "      <td>1963.000000</td>\n",
       "      <td>1.000000</td>\n",
       "      <td>1.000000e+02</td>\n",
       "      <td>0.000000</td>\n",
       "    </tr>\n",
       "    <tr>\n",
       "      <th>25%</th>\n",
       "      <td>2012.000000</td>\n",
       "      <td>2.000000</td>\n",
       "      <td>3.800000e+04</td>\n",
       "      <td>0.000000</td>\n",
       "    </tr>\n",
       "    <tr>\n",
       "      <th>50%</th>\n",
       "      <td>2016.000000</td>\n",
       "      <td>3.000000</td>\n",
       "      <td>1.030000e+05</td>\n",
       "      <td>36500.000000</td>\n",
       "    </tr>\n",
       "    <tr>\n",
       "      <th>75%</th>\n",
       "      <td>2018.000000</td>\n",
       "      <td>4.500000</td>\n",
       "      <td>1.960000e+05</td>\n",
       "      <td>72932.500000</td>\n",
       "    </tr>\n",
       "    <tr>\n",
       "      <th>max</th>\n",
       "      <td>2022.000000</td>\n",
       "      <td>9.000000</td>\n",
       "      <td>2.000000e+07</td>\n",
       "      <td>850000.000000</td>\n",
       "    </tr>\n",
       "  </tbody>\n",
       "</table>\n",
       "</div>"
      ],
      "text/plain": [
       "              Year  Engine_Size       Mileage          Price\n",
       "count  5624.000000  5624.000000  5.624000e+03    5624.000000\n",
       "mean   2014.101885     3.295430  1.509234e+05   53074.058144\n",
       "std       5.791606     1.515108  3.828360e+05   70155.340614\n",
       "min    1963.000000     1.000000  1.000000e+02       0.000000\n",
       "25%    2012.000000     2.000000  3.800000e+04       0.000000\n",
       "50%    2016.000000     3.000000  1.030000e+05   36500.000000\n",
       "75%    2018.000000     4.500000  1.960000e+05   72932.500000\n",
       "max    2022.000000     9.000000  2.000000e+07  850000.000000"
      ]
     },
     "execution_count": 4,
     "metadata": {},
     "output_type": "execute_result"
    }
   ],
   "source": [
    "df_SaudiCars.describe()"
   ]
  },
  {
   "cell_type": "code",
   "execution_count": 5,
   "metadata": {},
   "outputs": [
    {
     "data": {
      "text/plain": [
       "Text(0.5, 1.0, 'Price Distribution Plot')"
      ]
     },
     "execution_count": 5,
     "metadata": {},
     "output_type": "execute_result"
    },
    {
     "data": {
      "image/png": "[encoded data removed]",
      "text/plain": [
       "<Figure size 700x500 with 1 Axes>"
      ]
     },
     "metadata": {},
     "output_type": "display_data"
    }
   ],
   "source": [
    "# Plot Distribusi Fitur 'Price'\n",
    "plt.figure(figsize=(7, 5))\n",
    "sns.distplot(df_SaudiCars['Price'])\n",
    "plt.title('Price Distribution Plot', size= 14, weight='bold')"
   ]
  },
  {
   "attachments": {},
   "cell_type": "markdown",
   "metadata": {},
   "source": [
    "- Pada plot distribusi fitur harga jual mobil bekas di Arab Saudi terlihat pola “Right-Skewed Distribution”. Hal ini menunjukkan bahwa terdapat skewness positif pada fitur 'Price'."
   ]
  },
  {
   "cell_type": "code",
   "execution_count": 6,
   "metadata": {},
   "outputs": [
    {
     "name": "stdout",
     "output_type": "stream",
     "text": [
      "count      5624.000000\n",
      "mean      53074.058144\n",
      "std       70155.340614\n",
      "min           0.000000\n",
      "25%           0.000000\n",
      "50%       36500.000000\n",
      "75%       72932.500000\n",
      "100%     850000.000000\n",
      "max      850000.000000\n",
      "Name: Price, dtype: float64\n"
     ]
    }
   ],
   "source": [
    "print(df_SaudiCars.Price.describe(percentiles = [0.25,0.50,0.75,1]))"
   ]
  },
  {
   "attachments": {},
   "cell_type": "markdown",
   "metadata": {},
   "source": [
    "Insights:\n",
    "- Pola 'Right-Skewed' pada fitur 'Price', menunjukkan bahwa sebagian besar harga dalam dataset relatif rendah (< 72.932).\n",
    "- Terdapat perbedaan yang cukup signifikan antara Mean dan Median pada distribusi Harga (53.074 & 36.500)."
   ]
  },
  {
   "cell_type": "code",
   "execution_count": 7,
   "metadata": {},
   "outputs": [
    {
     "data": {
      "image/png": "[encoded data removed]",
      "text/plain": [
       "<Figure size 1400x600 with 3 Axes>"
      ]
     },
     "metadata": {},
     "output_type": "display_data"
    }
   ],
   "source": [
    "plt.figure(figsize=(14,6))\n",
    "\n",
    "plt.subplot(1,3,1)\n",
    "plt1 = df_SaudiCars.Gear_Type.value_counts().plot(kind= 'bar', color= 'red')\n",
    "plt.title('Gear Type')\n",
    "plt1.set(xlabel = 'Gear_type', ylabel='Frequency')\n",
    "\n",
    "plt.subplot(1,3,2)\n",
    "plt2 = df_SaudiCars.Origin.value_counts().plot(kind= 'bar', color= 'green')\n",
    "plt.title('Origin')\n",
    "plt2.set(xlabel = 'Origin')\n",
    "\n",
    "plt.subplot(1,3,3)\n",
    "plt3 = df_SaudiCars.Options.value_counts().plot(kind= 'bar', color= 'blue')\n",
    "plt.title('Options')\n",
    "plt3.set(xlabel = 'Options')\n",
    "\n",
    "plt.show()"
   ]
  },
  {
   "attachments": {},
   "cell_type": "markdown",
   "metadata": {},
   "source": [
    "Insights:\n",
    "- Jumlah mobil bekas yang terjual dengan transmisi 'Automatic' jauh lebih banyak dibandingkan dengan transmisi 'Manual'.\n",
    "- Asal muasal mobil bekas paling banyak terjual berasal dari Saudi.\n",
    "- Opsi kelengkapan mobil bekas 'Full' terlihat lebih banyak terjual dibandingkan mobil bekas dengan pilihan opsi lainnya."
   ]
  },
  {
   "cell_type": "code",
   "execution_count": 8,
   "metadata": {},
   "outputs": [
    {
     "data": {
      "image/png": "[encoded data removed]",
      "text/plain": [
       "<Figure size 1000x600 with 1 Axes>"
      ]
     },
     "metadata": {},
     "output_type": "display_data"
    }
   ],
   "source": [
    "plt.figure(figsize=(10,6))\n",
    "\n",
    "plt4 = df_SaudiCars.Region.value_counts().plot(kind= 'bar', color= 'yellow')\n",
    "plt.title('Region')\n",
    "plt4.set(xlabel = 'Region', ylabel='Frequency')\n",
    "\n",
    "plt.show()"
   ]
  },
  {
   "attachments": {},
   "cell_type": "markdown",
   "metadata": {},
   "source": [
    "Insights:\n",
    "- Total mobil bekas yang paling banyak terjual berlokasi di wilayah Riyadh dan paling sedikit terjual di wilayah Sabya. "
   ]
  },
  {
   "cell_type": "code",
   "execution_count": 9,
   "metadata": {},
   "outputs": [
    {
     "data": {
      "image/png": "[encoded data removed]",
      "text/plain": [
       "<Figure size 1400x600 with 1 Axes>"
      ]
     },
     "metadata": {},
     "output_type": "display_data"
    }
   ],
   "source": [
    "plt.figure(figsize=(14,6))\n",
    "\n",
    "plt5 = df_SaudiCars.Make.value_counts().plot(kind= 'bar', color= 'cyan')\n",
    "plt.title('Make')\n",
    "plt5.set(xlabel = 'Manufacturer', ylabel='Frequency')\n",
    "\n",
    "plt.show()"
   ]
  },
  {
   "attachments": {},
   "cell_type": "markdown",
   "metadata": {},
   "source": [
    "Insights:\n",
    "- Toyota, Hyundai, dan Ford merupakan 3 perusahaan manufaktur yang paling diminati oleh pembeli mobil bekas."
   ]
  },
  {
   "cell_type": "code",
   "execution_count": 10,
   "metadata": {},
   "outputs": [
    {
     "data": {
      "text/plain": [
       "<Figure size 2000x1000 with 0 Axes>"
      ]
     },
     "metadata": {},
     "output_type": "display_data"
    },
    {
     "data": {
      "image/png": "[encoded data removed]",
      "text/plain": [
       "<Figure size 640x480 with 1 Axes>"
      ]
     },
     "metadata": {},
     "output_type": "display_data"
    }
   ],
   "source": [
    "plt.figure(figsize=(20,10))\n",
    "df_regPrice = pd.DataFrame(df_SaudiCars.groupby(['Region'])['Price'].mean().sort_values(ascending= False))\n",
    "df_regPrice.plot.bar()\n",
    "plt.title('Region vs Average Price')\n",
    "plt.show()"
   ]
  },
  {
   "attachments": {},
   "cell_type": "markdown",
   "metadata": {},
   "source": [
    "- Kota Dammam, Riyadh, dan Jeddah merupakan 3 tempat dengan penjualan mobil terbanyak di Arab Saudi."
   ]
  },
  {
   "cell_type": "code",
   "execution_count": 11,
   "metadata": {},
   "outputs": [
    {
     "data": {
      "text/plain": [
       "<Figure size 2500x600 with 0 Axes>"
      ]
     },
     "metadata": {},
     "output_type": "display_data"
    },
    {
     "data": {
      "image/png": "[encoded data removed]",
      "text/plain": [
       "<Figure size 640x480 with 1 Axes>"
      ]
     },
     "metadata": {},
     "output_type": "display_data"
    }
   ],
   "source": [
    "plt.figure(figsize=(25, 6))\n",
    "df_makePrice = pd.DataFrame(df_SaudiCars.groupby(['Make'])['Price'].mean().sort_values(ascending=False))\n",
    "df_makePrice.plot.bar()\n",
    "plt.title('Manufacturer vs Average Price')\n",
    "plt.show()"
   ]
  },
  {
   "attachments": {},
   "cell_type": "markdown",
   "metadata": {},
   "source": [
    "- Rolls-Royce, Bentley, dan Aston Martin merupakan 3 perusahaan manufaktur dengan rata-rata harga penjualan mobil bekas tertinggi di Arab Saudi."
   ]
  },
  {
   "attachments": {},
   "cell_type": "markdown",
   "metadata": {},
   "source": [
    "## 3. Data Preprocessing"
   ]
  },
  {
   "cell_type": "code",
   "execution_count": 12,
   "metadata": {},
   "outputs": [],
   "source": [
    "# Membuat duplikasi Dataframe\n",
    "df_model = df_SaudiCars.copy()"
   ]
  },
  {
   "cell_type": "code",
   "execution_count": 13,
   "metadata": {},
   "outputs": [
    {
     "name": "stdout",
     "output_type": "stream",
     "text": [
      "Number of duplicate rows: 4\n"
     ]
    }
   ],
   "source": [
    "# Check duplicate data\n",
    "print(\"Number of duplicate rows:\", sum(df_model.duplicated()))"
   ]
  },
  {
   "cell_type": "code",
   "execution_count": 14,
   "metadata": {},
   "outputs": [
    {
     "name": "stdout",
     "output_type": "stream",
     "text": [
      "Number of duplicate rows:  0\n"
     ]
    }
   ],
   "source": [
    "df_model.drop_duplicates(inplace=True)\n",
    "\n",
    "# Re-check duplicate data\n",
    "print(\"Number of duplicate rows: \", sum(df_model.duplicated()))"
   ]
  },
  {
   "cell_type": "code",
   "execution_count": 15,
   "metadata": {},
   "outputs": [
    {
     "data": {
      "text/plain": [
       "Type           0\n",
       "Region         0\n",
       "Make           0\n",
       "Gear_Type      0\n",
       "Origin         0\n",
       "Options        0\n",
       "Year           0\n",
       "Engine_Size    0\n",
       "Mileage        0\n",
       "Negotiable     0\n",
       "Price          0\n",
       "dtype: int64"
      ]
     },
     "execution_count": 15,
     "metadata": {},
     "output_type": "execute_result"
    }
   ],
   "source": [
    "# Check Missing Value\n",
    "df_model.isnull().sum()"
   ]
  },
  {
   "cell_type": "code",
   "execution_count": 16,
   "metadata": {},
   "outputs": [
    {
     "data": {
      "text/html": [
       "<div>\n",
       "<style scoped>\n",
       "    .dataframe tbody tr th:only-of-type {\n",
       "        vertical-align: middle;\n",
       "    }\n",
       "\n",
       "    .dataframe tbody tr th {\n",
       "        vertical-align: top;\n",
       "    }\n",
       "\n",
       "    .dataframe thead th {\n",
       "        text-align: right;\n",
       "    }\n",
       "</style>\n",
       "<table border=\"1\" class=\"dataframe\">\n",
       "  <thead>\n",
       "    <tr style=\"text-align: right;\">\n",
       "      <th></th>\n",
       "      <th>dataFeatures</th>\n",
       "      <th>dataType</th>\n",
       "      <th>null</th>\n",
       "      <th>nullPct</th>\n",
       "      <th>unique</th>\n",
       "      <th>uniqueSample</th>\n",
       "    </tr>\n",
       "  </thead>\n",
       "  <tbody>\n",
       "    <tr>\n",
       "      <th>0</th>\n",
       "      <td>Type</td>\n",
       "      <td>object</td>\n",
       "      <td>0</td>\n",
       "      <td>0.0</td>\n",
       "      <td>347</td>\n",
       "      <td>[Bronco, Prestige]</td>\n",
       "    </tr>\n",
       "    <tr>\n",
       "      <th>1</th>\n",
       "      <td>Region</td>\n",
       "      <td>object</td>\n",
       "      <td>0</td>\n",
       "      <td>0.0</td>\n",
       "      <td>27</td>\n",
       "      <td>[Qurayyat, Sakaka]</td>\n",
       "    </tr>\n",
       "    <tr>\n",
       "      <th>2</th>\n",
       "      <td>Make</td>\n",
       "      <td>object</td>\n",
       "      <td>0</td>\n",
       "      <td>0.0</td>\n",
       "      <td>58</td>\n",
       "      <td>[Foton, Mercury]</td>\n",
       "    </tr>\n",
       "    <tr>\n",
       "      <th>3</th>\n",
       "      <td>Gear_Type</td>\n",
       "      <td>object</td>\n",
       "      <td>0</td>\n",
       "      <td>0.0</td>\n",
       "      <td>2</td>\n",
       "      <td>[Automatic, Manual]</td>\n",
       "    </tr>\n",
       "    <tr>\n",
       "      <th>4</th>\n",
       "      <td>Origin</td>\n",
       "      <td>object</td>\n",
       "      <td>0</td>\n",
       "      <td>0.0</td>\n",
       "      <td>4</td>\n",
       "      <td>[Saudi, Unknown]</td>\n",
       "    </tr>\n",
       "    <tr>\n",
       "      <th>5</th>\n",
       "      <td>Options</td>\n",
       "      <td>object</td>\n",
       "      <td>0</td>\n",
       "      <td>0.0</td>\n",
       "      <td>3</td>\n",
       "      <td>[Standard, Full]</td>\n",
       "    </tr>\n",
       "    <tr>\n",
       "      <th>6</th>\n",
       "      <td>Year</td>\n",
       "      <td>int64</td>\n",
       "      <td>0</td>\n",
       "      <td>0.0</td>\n",
       "      <td>50</td>\n",
       "      <td>[2004, 1991]</td>\n",
       "    </tr>\n",
       "    <tr>\n",
       "      <th>7</th>\n",
       "      <td>Engine_Size</td>\n",
       "      <td>float64</td>\n",
       "      <td>0</td>\n",
       "      <td>0.0</td>\n",
       "      <td>71</td>\n",
       "      <td>[9.0, 8.5]</td>\n",
       "    </tr>\n",
       "    <tr>\n",
       "      <th>8</th>\n",
       "      <td>Mileage</td>\n",
       "      <td>int64</td>\n",
       "      <td>0</td>\n",
       "      <td>0.0</td>\n",
       "      <td>1716</td>\n",
       "      <td>[140641, 242]</td>\n",
       "    </tr>\n",
       "    <tr>\n",
       "      <th>9</th>\n",
       "      <td>Negotiable</td>\n",
       "      <td>bool</td>\n",
       "      <td>0</td>\n",
       "      <td>0.0</td>\n",
       "      <td>2</td>\n",
       "      <td>[True, False]</td>\n",
       "    </tr>\n",
       "    <tr>\n",
       "      <th>10</th>\n",
       "      <td>Price</td>\n",
       "      <td>int64</td>\n",
       "      <td>0</td>\n",
       "      <td>0.0</td>\n",
       "      <td>467</td>\n",
       "      <td>[42000, 261500]</td>\n",
       "    </tr>\n",
       "  </tbody>\n",
       "</table>\n",
       "</div>"
      ],
      "text/plain": [
       "   dataFeatures dataType  null  nullPct  unique         uniqueSample\n",
       "0          Type   object     0      0.0     347   [Bronco, Prestige]\n",
       "1        Region   object     0      0.0      27   [Qurayyat, Sakaka]\n",
       "2          Make   object     0      0.0      58     [Foton, Mercury]\n",
       "3     Gear_Type   object     0      0.0       2  [Automatic, Manual]\n",
       "4        Origin   object     0      0.0       4     [Saudi, Unknown]\n",
       "5       Options   object     0      0.0       3     [Standard, Full]\n",
       "6          Year    int64     0      0.0      50         [2004, 1991]\n",
       "7   Engine_Size  float64     0      0.0      71           [9.0, 8.5]\n",
       "8       Mileage    int64     0      0.0    1716        [140641, 242]\n",
       "9    Negotiable     bool     0      0.0       2        [True, False]\n",
       "10        Price    int64     0      0.0     467      [42000, 261500]"
      ]
     },
     "execution_count": 16,
     "metadata": {},
     "output_type": "execute_result"
    }
   ],
   "source": [
    "# Info Detail Untuk Setiap Fitur\n",
    "listItem = []\n",
    "\n",
    "for col in df_model.columns:\n",
    "    listItem.append([col, df_model[col].dtype, df_model[col].isna().sum(), round((df_model[col].isna().sum()/len(df_model[col]))*100, 2),\n",
    "                    df_model[col].nunique(), list(df_model[col].drop_duplicates().sample(2).values)]);\n",
    "\n",
    "df_model_desc = pd.DataFrame(columns=['dataFeatures', 'dataType', 'null', 'nullPct', 'unique', 'uniqueSample'],\n",
    "                     data=listItem)\n",
    "df_model_desc"
   ]
  },
  {
   "cell_type": "code",
   "execution_count": 17,
   "metadata": {},
   "outputs": [
    {
     "data": {
      "text/html": [
       "<div>\n",
       "<style scoped>\n",
       "    .dataframe tbody tr th:only-of-type {\n",
       "        vertical-align: middle;\n",
       "    }\n",
       "\n",
       "    .dataframe tbody tr th {\n",
       "        vertical-align: top;\n",
       "    }\n",
       "\n",
       "    .dataframe thead th {\n",
       "        text-align: right;\n",
       "    }\n",
       "</style>\n",
       "<table border=\"1\" class=\"dataframe\">\n",
       "  <thead>\n",
       "    <tr style=\"text-align: right;\">\n",
       "      <th></th>\n",
       "      <th>Year</th>\n",
       "      <th>Engine_Size</th>\n",
       "      <th>Mileage</th>\n",
       "      <th>Price</th>\n",
       "    </tr>\n",
       "  </thead>\n",
       "  <tbody>\n",
       "    <tr>\n",
       "      <th>count</th>\n",
       "      <td>5620.000000</td>\n",
       "      <td>5620.000000</td>\n",
       "      <td>5.620000e+03</td>\n",
       "      <td>5620.000000</td>\n",
       "    </tr>\n",
       "    <tr>\n",
       "      <th>mean</th>\n",
       "      <td>2014.100356</td>\n",
       "      <td>3.296299</td>\n",
       "      <td>1.509222e+05</td>\n",
       "      <td>53086.404448</td>\n",
       "    </tr>\n",
       "    <tr>\n",
       "      <th>std</th>\n",
       "      <td>5.793003</td>\n",
       "      <td>1.515253</td>\n",
       "      <td>3.829633e+05</td>\n",
       "      <td>70175.153207</td>\n",
       "    </tr>\n",
       "    <tr>\n",
       "      <th>min</th>\n",
       "      <td>1963.000000</td>\n",
       "      <td>1.000000</td>\n",
       "      <td>1.000000e+02</td>\n",
       "      <td>0.000000</td>\n",
       "    </tr>\n",
       "    <tr>\n",
       "      <th>25%</th>\n",
       "      <td>2012.000000</td>\n",
       "      <td>2.000000</td>\n",
       "      <td>3.800000e+04</td>\n",
       "      <td>0.000000</td>\n",
       "    </tr>\n",
       "    <tr>\n",
       "      <th>50%</th>\n",
       "      <td>2016.000000</td>\n",
       "      <td>3.000000</td>\n",
       "      <td>1.030000e+05</td>\n",
       "      <td>36500.000000</td>\n",
       "    </tr>\n",
       "    <tr>\n",
       "      <th>75%</th>\n",
       "      <td>2018.000000</td>\n",
       "      <td>4.500000</td>\n",
       "      <td>1.960000e+05</td>\n",
       "      <td>73000.000000</td>\n",
       "    </tr>\n",
       "    <tr>\n",
       "      <th>max</th>\n",
       "      <td>2022.000000</td>\n",
       "      <td>9.000000</td>\n",
       "      <td>2.000000e+07</td>\n",
       "      <td>850000.000000</td>\n",
       "    </tr>\n",
       "  </tbody>\n",
       "</table>\n",
       "</div>"
      ],
      "text/plain": [
       "              Year  Engine_Size       Mileage          Price\n",
       "count  5620.000000  5620.000000  5.620000e+03    5620.000000\n",
       "mean   2014.100356     3.296299  1.509222e+05   53086.404448\n",
       "std       5.793003     1.515253  3.829633e+05   70175.153207\n",
       "min    1963.000000     1.000000  1.000000e+02       0.000000\n",
       "25%    2012.000000     2.000000  3.800000e+04       0.000000\n",
       "50%    2016.000000     3.000000  1.030000e+05   36500.000000\n",
       "75%    2018.000000     4.500000  1.960000e+05   73000.000000\n",
       "max    2022.000000     9.000000  2.000000e+07  850000.000000"
      ]
     },
     "execution_count": 17,
     "metadata": {},
     "output_type": "execute_result"
    }
   ],
   "source": [
    "# Summary Statistics Untuk Atribut Numerikal \n",
    "df_model.describe()"
   ]
  },
  {
   "attachments": {},
   "cell_type": "markdown",
   "metadata": {},
   "source": [
    "- Dari keempat fitur numerikal di atas dapat terlihat bahwa nilai minimum pada fitur 'Price' dirasa tidak masuk akal. Nilai minimum dari sebuah harga penjualan mobil bernilai 0, hal ini menunjukkan bahwa mobil tersebut dapat dibeli secara gratis oleh pelanggan. Oleh sebab itu, supaya menghindari model dari kesalahan dalam menginterpretasi data, maka baris data yang memiliki nilai 'Price' == 0 akan dieliminasi."
   ]
  },
  {
   "cell_type": "code",
   "execution_count": 18,
   "metadata": {},
   "outputs": [
    {
     "data": {
      "text/plain": [
       "1796"
      ]
     },
     "execution_count": 18,
     "metadata": {},
     "output_type": "execute_result"
    }
   ],
   "source": [
    "# Jumlah Baris Data Dengan Nilai 'Price' == 0\n",
    "df_model[df_model['Price'] == 0]['Price'].count()\n"
   ]
  },
  {
   "cell_type": "code",
   "execution_count": 19,
   "metadata": {},
   "outputs": [
    {
     "data": {
      "text/html": [
       "<div>\n",
       "<style scoped>\n",
       "    .dataframe tbody tr th:only-of-type {\n",
       "        vertical-align: middle;\n",
       "    }\n",
       "\n",
       "    .dataframe tbody tr th {\n",
       "        vertical-align: top;\n",
       "    }\n",
       "\n",
       "    .dataframe thead th {\n",
       "        text-align: right;\n",
       "    }\n",
       "</style>\n",
       "<table border=\"1\" class=\"dataframe\">\n",
       "  <thead>\n",
       "    <tr style=\"text-align: right;\">\n",
       "      <th></th>\n",
       "      <th>Type</th>\n",
       "      <th>Region</th>\n",
       "      <th>Make</th>\n",
       "      <th>Gear_Type</th>\n",
       "      <th>Origin</th>\n",
       "      <th>Options</th>\n",
       "      <th>Year</th>\n",
       "      <th>Engine_Size</th>\n",
       "      <th>Mileage</th>\n",
       "      <th>Negotiable</th>\n",
       "      <th>Price</th>\n",
       "    </tr>\n",
       "  </thead>\n",
       "  <tbody>\n",
       "    <tr>\n",
       "      <th>1</th>\n",
       "      <td>Yukon</td>\n",
       "      <td>Riyadh</td>\n",
       "      <td>GMC</td>\n",
       "      <td>Automatic</td>\n",
       "      <td>Saudi</td>\n",
       "      <td>Full</td>\n",
       "      <td>2014</td>\n",
       "      <td>8.0</td>\n",
       "      <td>80000</td>\n",
       "      <td>False</td>\n",
       "      <td>120000</td>\n",
       "    </tr>\n",
       "    <tr>\n",
       "      <th>2</th>\n",
       "      <td>Range Rover</td>\n",
       "      <td>Riyadh</td>\n",
       "      <td>Land Rover</td>\n",
       "      <td>Automatic</td>\n",
       "      <td>Gulf Arabic</td>\n",
       "      <td>Full</td>\n",
       "      <td>2015</td>\n",
       "      <td>5.0</td>\n",
       "      <td>140000</td>\n",
       "      <td>False</td>\n",
       "      <td>260000</td>\n",
       "    </tr>\n",
       "    <tr>\n",
       "      <th>3</th>\n",
       "      <td>Optima</td>\n",
       "      <td>Hafar Al-Batin</td>\n",
       "      <td>Kia</td>\n",
       "      <td>Automatic</td>\n",
       "      <td>Saudi</td>\n",
       "      <td>Semi Full</td>\n",
       "      <td>2015</td>\n",
       "      <td>2.4</td>\n",
       "      <td>220000</td>\n",
       "      <td>False</td>\n",
       "      <td>42000</td>\n",
       "    </tr>\n",
       "    <tr>\n",
       "      <th>5</th>\n",
       "      <td>CX3</td>\n",
       "      <td>Abha</td>\n",
       "      <td>Mazda</td>\n",
       "      <td>Automatic</td>\n",
       "      <td>Saudi</td>\n",
       "      <td>Semi Full</td>\n",
       "      <td>2019</td>\n",
       "      <td>2.0</td>\n",
       "      <td>25000</td>\n",
       "      <td>False</td>\n",
       "      <td>58000</td>\n",
       "    </tr>\n",
       "    <tr>\n",
       "      <th>6</th>\n",
       "      <td>Cayenne S</td>\n",
       "      <td>Riyadh</td>\n",
       "      <td>Porsche</td>\n",
       "      <td>Automatic</td>\n",
       "      <td>Saudi</td>\n",
       "      <td>Full</td>\n",
       "      <td>2012</td>\n",
       "      <td>4.8</td>\n",
       "      <td>189000</td>\n",
       "      <td>False</td>\n",
       "      <td>85000</td>\n",
       "    </tr>\n",
       "    <tr>\n",
       "      <th>7</th>\n",
       "      <td>Sonata</td>\n",
       "      <td>Riyadh</td>\n",
       "      <td>Hyundai</td>\n",
       "      <td>Automatic</td>\n",
       "      <td>Saudi</td>\n",
       "      <td>Full</td>\n",
       "      <td>2016</td>\n",
       "      <td>2.4</td>\n",
       "      <td>155</td>\n",
       "      <td>False</td>\n",
       "      <td>48000</td>\n",
       "    </tr>\n",
       "    <tr>\n",
       "      <th>8</th>\n",
       "      <td>Avalon</td>\n",
       "      <td>Riyadh</td>\n",
       "      <td>Toyota</td>\n",
       "      <td>Automatic</td>\n",
       "      <td>Saudi</td>\n",
       "      <td>Standard</td>\n",
       "      <td>2016</td>\n",
       "      <td>3.5</td>\n",
       "      <td>110864</td>\n",
       "      <td>False</td>\n",
       "      <td>81500</td>\n",
       "    </tr>\n",
       "    <tr>\n",
       "      <th>10</th>\n",
       "      <td>C300</td>\n",
       "      <td>Makkah</td>\n",
       "      <td>Chrysler</td>\n",
       "      <td>Automatic</td>\n",
       "      <td>Saudi</td>\n",
       "      <td>Full</td>\n",
       "      <td>2013</td>\n",
       "      <td>5.7</td>\n",
       "      <td>200</td>\n",
       "      <td>False</td>\n",
       "      <td>55000</td>\n",
       "    </tr>\n",
       "    <tr>\n",
       "      <th>11</th>\n",
       "      <td>Land Cruiser</td>\n",
       "      <td>Riyadh</td>\n",
       "      <td>Toyota</td>\n",
       "      <td>Automatic</td>\n",
       "      <td>Saudi</td>\n",
       "      <td>Full</td>\n",
       "      <td>2011</td>\n",
       "      <td>4.6</td>\n",
       "      <td>79000</td>\n",
       "      <td>False</td>\n",
       "      <td>145000</td>\n",
       "    </tr>\n",
       "    <tr>\n",
       "      <th>12</th>\n",
       "      <td>LS</td>\n",
       "      <td>Dammam</td>\n",
       "      <td>Lexus</td>\n",
       "      <td>Automatic</td>\n",
       "      <td>Saudi</td>\n",
       "      <td>Full</td>\n",
       "      <td>2008</td>\n",
       "      <td>4.6</td>\n",
       "      <td>299000</td>\n",
       "      <td>False</td>\n",
       "      <td>38000</td>\n",
       "    </tr>\n",
       "  </tbody>\n",
       "</table>\n",
       "</div>"
      ],
      "text/plain": [
       "            Type          Region        Make  Gear_Type       Origin  \\\n",
       "1          Yukon          Riyadh         GMC  Automatic        Saudi   \n",
       "2    Range Rover          Riyadh  Land Rover  Automatic  Gulf Arabic   \n",
       "3         Optima  Hafar Al-Batin         Kia  Automatic        Saudi   \n",
       "5            CX3            Abha       Mazda  Automatic        Saudi   \n",
       "6      Cayenne S          Riyadh     Porsche  Automatic        Saudi   \n",
       "7         Sonata          Riyadh     Hyundai  Automatic        Saudi   \n",
       "8         Avalon          Riyadh      Toyota  Automatic        Saudi   \n",
       "10          C300          Makkah    Chrysler  Automatic        Saudi   \n",
       "11  Land Cruiser          Riyadh      Toyota  Automatic        Saudi   \n",
       "12            LS          Dammam       Lexus  Automatic        Saudi   \n",
       "\n",
       "      Options  Year  Engine_Size  Mileage  Negotiable   Price  \n",
       "1        Full  2014          8.0    80000       False  120000  \n",
       "2        Full  2015          5.0   140000       False  260000  \n",
       "3   Semi Full  2015          2.4   220000       False   42000  \n",
       "5   Semi Full  2019          2.0    25000       False   58000  \n",
       "6        Full  2012          4.8   189000       False   85000  \n",
       "7        Full  2016          2.4      155       False   48000  \n",
       "8    Standard  2016          3.5   110864       False   81500  \n",
       "10       Full  2013          5.7      200       False   55000  \n",
       "11       Full  2011          4.6    79000       False  145000  \n",
       "12       Full  2008          4.6   299000       False   38000  "
      ]
     },
     "execution_count": 19,
     "metadata": {},
     "output_type": "execute_result"
    }
   ],
   "source": [
    "# Drop Baris Data Dengan Nilai 'Price' == 0\n",
    "df_model = df_model[df_model['Price'] != 0]\n",
    "df_model.head(10)"
   ]
  },
  {
   "cell_type": "code",
   "execution_count": 20,
   "metadata": {},
   "outputs": [
    {
     "data": {
      "text/html": [
       "<div>\n",
       "<style scoped>\n",
       "    .dataframe tbody tr th:only-of-type {\n",
       "        vertical-align: middle;\n",
       "    }\n",
       "\n",
       "    .dataframe tbody tr th {\n",
       "        vertical-align: top;\n",
       "    }\n",
       "\n",
       "    .dataframe thead th {\n",
       "        text-align: right;\n",
       "    }\n",
       "</style>\n",
       "<table border=\"1\" class=\"dataframe\">\n",
       "  <thead>\n",
       "    <tr style=\"text-align: right;\">\n",
       "      <th></th>\n",
       "      <th>Type</th>\n",
       "      <th>Region</th>\n",
       "      <th>Make</th>\n",
       "      <th>Gear_Type</th>\n",
       "      <th>Origin</th>\n",
       "      <th>Options</th>\n",
       "      <th>Year</th>\n",
       "      <th>Engine_Size</th>\n",
       "      <th>Mileage</th>\n",
       "      <th>Negotiable</th>\n",
       "      <th>Price</th>\n",
       "    </tr>\n",
       "  </thead>\n",
       "  <tbody>\n",
       "    <tr>\n",
       "      <th>3131</th>\n",
       "      <td>Yukon</td>\n",
       "      <td>Jubail</td>\n",
       "      <td>GMC</td>\n",
       "      <td>Automatic</td>\n",
       "      <td>Saudi</td>\n",
       "      <td>Full</td>\n",
       "      <td>2019</td>\n",
       "      <td>5.3</td>\n",
       "      <td>50000</td>\n",
       "      <td>False</td>\n",
       "      <td>1</td>\n",
       "    </tr>\n",
       "    <tr>\n",
       "      <th>3992</th>\n",
       "      <td>G80</td>\n",
       "      <td>Riyadh</td>\n",
       "      <td>Genesis</td>\n",
       "      <td>Automatic</td>\n",
       "      <td>Other</td>\n",
       "      <td>Semi Full</td>\n",
       "      <td>2018</td>\n",
       "      <td>3.8</td>\n",
       "      <td>170000</td>\n",
       "      <td>False</td>\n",
       "      <td>500</td>\n",
       "    </tr>\n",
       "    <tr>\n",
       "      <th>4399</th>\n",
       "      <td>Yaris</td>\n",
       "      <td>Riyadh</td>\n",
       "      <td>Toyota</td>\n",
       "      <td>Automatic</td>\n",
       "      <td>Saudi</td>\n",
       "      <td>Standard</td>\n",
       "      <td>2018</td>\n",
       "      <td>1.5</td>\n",
       "      <td>100000</td>\n",
       "      <td>False</td>\n",
       "      <td>850</td>\n",
       "    </tr>\n",
       "    <tr>\n",
       "      <th>5128</th>\n",
       "      <td>Rio</td>\n",
       "      <td>Arar</td>\n",
       "      <td>Kia</td>\n",
       "      <td>Automatic</td>\n",
       "      <td>Saudi</td>\n",
       "      <td>Standard</td>\n",
       "      <td>2019</td>\n",
       "      <td>1.4</td>\n",
       "      <td>55500</td>\n",
       "      <td>False</td>\n",
       "      <td>884</td>\n",
       "    </tr>\n",
       "    <tr>\n",
       "      <th>3474</th>\n",
       "      <td>Yaris</td>\n",
       "      <td>Najran</td>\n",
       "      <td>Toyota</td>\n",
       "      <td>Automatic</td>\n",
       "      <td>Saudi</td>\n",
       "      <td>Standard</td>\n",
       "      <td>2019</td>\n",
       "      <td>1.6</td>\n",
       "      <td>85000</td>\n",
       "      <td>False</td>\n",
       "      <td>950</td>\n",
       "    </tr>\n",
       "    <tr>\n",
       "      <th>3760</th>\n",
       "      <td>5</td>\n",
       "      <td>Al-Ahsa</td>\n",
       "      <td>MG</td>\n",
       "      <td>Automatic</td>\n",
       "      <td>Saudi</td>\n",
       "      <td>Standard</td>\n",
       "      <td>2020</td>\n",
       "      <td>1.5</td>\n",
       "      <td>41000</td>\n",
       "      <td>False</td>\n",
       "      <td>988</td>\n",
       "    </tr>\n",
       "    <tr>\n",
       "      <th>3616</th>\n",
       "      <td>Elantra</td>\n",
       "      <td>Jeddah</td>\n",
       "      <td>Hyundai</td>\n",
       "      <td>Automatic</td>\n",
       "      <td>Saudi</td>\n",
       "      <td>Standard</td>\n",
       "      <td>2019</td>\n",
       "      <td>2.0</td>\n",
       "      <td>89000</td>\n",
       "      <td>False</td>\n",
       "      <td>993</td>\n",
       "    </tr>\n",
       "    <tr>\n",
       "      <th>1534</th>\n",
       "      <td>Yukon</td>\n",
       "      <td>Jeddah</td>\n",
       "      <td>GMC</td>\n",
       "      <td>Automatic</td>\n",
       "      <td>Saudi</td>\n",
       "      <td>Standard</td>\n",
       "      <td>2021</td>\n",
       "      <td>5.3</td>\n",
       "      <td>4000</td>\n",
       "      <td>False</td>\n",
       "      <td>1000</td>\n",
       "    </tr>\n",
       "    <tr>\n",
       "      <th>3892</th>\n",
       "      <td>Corolla</td>\n",
       "      <td>Hail</td>\n",
       "      <td>Toyota</td>\n",
       "      <td>Automatic</td>\n",
       "      <td>Saudi</td>\n",
       "      <td>Standard</td>\n",
       "      <td>2020</td>\n",
       "      <td>1.6</td>\n",
       "      <td>48563</td>\n",
       "      <td>False</td>\n",
       "      <td>1002</td>\n",
       "    </tr>\n",
       "    <tr>\n",
       "      <th>46</th>\n",
       "      <td>Elantra</td>\n",
       "      <td>Abha</td>\n",
       "      <td>Hyundai</td>\n",
       "      <td>Automatic</td>\n",
       "      <td>Saudi</td>\n",
       "      <td>Semi Full</td>\n",
       "      <td>2020</td>\n",
       "      <td>2.0</td>\n",
       "      <td>27000</td>\n",
       "      <td>False</td>\n",
       "      <td>1010</td>\n",
       "    </tr>\n",
       "  </tbody>\n",
       "</table>\n",
       "</div>"
      ],
      "text/plain": [
       "         Type   Region     Make  Gear_Type Origin    Options  Year  \\\n",
       "3131    Yukon   Jubail      GMC  Automatic  Saudi       Full  2019   \n",
       "3992      G80   Riyadh  Genesis  Automatic  Other  Semi Full  2018   \n",
       "4399    Yaris   Riyadh   Toyota  Automatic  Saudi   Standard  2018   \n",
       "5128      Rio     Arar      Kia  Automatic  Saudi   Standard  2019   \n",
       "3474    Yaris   Najran   Toyota  Automatic  Saudi   Standard  2019   \n",
       "3760        5  Al-Ahsa       MG  Automatic  Saudi   Standard  2020   \n",
       "3616  Elantra   Jeddah  Hyundai  Automatic  Saudi   Standard  2019   \n",
       "1534    Yukon   Jeddah      GMC  Automatic  Saudi   Standard  2021   \n",
       "3892  Corolla     Hail   Toyota  Automatic  Saudi   Standard  2020   \n",
       "46    Elantra     Abha  Hyundai  Automatic  Saudi  Semi Full  2020   \n",
       "\n",
       "      Engine_Size  Mileage  Negotiable  Price  \n",
       "3131          5.3    50000       False      1  \n",
       "3992          3.8   170000       False    500  \n",
       "4399          1.5   100000       False    850  \n",
       "5128          1.4    55500       False    884  \n",
       "3474          1.6    85000       False    950  \n",
       "3760          1.5    41000       False    988  \n",
       "3616          2.0    89000       False    993  \n",
       "1534          5.3     4000       False   1000  \n",
       "3892          1.6    48563       False   1002  \n",
       "46            2.0    27000       False   1010  "
      ]
     },
     "execution_count": 20,
     "metadata": {},
     "output_type": "execute_result"
    }
   ],
   "source": [
    "# Memeriksa Kembali Apakah Ada Nilai Minimum Fitur 'Price' Yang Masih Tidak Masuk Akal\n",
    "df_model.sort_values(by= 'Price', ascending= 1, inplace= True)\n",
    "df_model.head(10)"
   ]
  },
  {
   "cell_type": "code",
   "execution_count": 21,
   "metadata": {},
   "outputs": [
    {
     "data": {
      "text/plain": [
       "1"
      ]
     },
     "execution_count": 21,
     "metadata": {},
     "output_type": "execute_result"
    }
   ],
   "source": [
    "df_model[df_model['Price'] == 1]['Price'].count()"
   ]
  },
  {
   "attachments": {},
   "cell_type": "markdown",
   "metadata": {},
   "source": [
    "- Setelah dilakukan pemeriksaan ulang, dapat terlihat bahwa masih ada 1 baris data dengan nilai yang tidak masuk akal, yaitu 'Price' == 1. Nilai jual ini sama saja dengan memberikan mobil secara cuma-cuma kepada pelanggan. Oleh karena itu, baris data dengan nilai 'Price' == 1 akan juga dieliminasi."
   ]
  },
  {
   "cell_type": "code",
   "execution_count": 22,
   "metadata": {},
   "outputs": [
    {
     "data": {
      "text/html": [
       "<div>\n",
       "<style scoped>\n",
       "    .dataframe tbody tr th:only-of-type {\n",
       "        vertical-align: middle;\n",
       "    }\n",
       "\n",
       "    .dataframe tbody tr th {\n",
       "        vertical-align: top;\n",
       "    }\n",
       "\n",
       "    .dataframe thead th {\n",
       "        text-align: right;\n",
       "    }\n",
       "</style>\n",
       "<table border=\"1\" class=\"dataframe\">\n",
       "  <thead>\n",
       "    <tr style=\"text-align: right;\">\n",
       "      <th></th>\n",
       "      <th>Type</th>\n",
       "      <th>Region</th>\n",
       "      <th>Make</th>\n",
       "      <th>Gear_Type</th>\n",
       "      <th>Origin</th>\n",
       "      <th>Options</th>\n",
       "      <th>Year</th>\n",
       "      <th>Engine_Size</th>\n",
       "      <th>Mileage</th>\n",
       "      <th>Negotiable</th>\n",
       "      <th>Price</th>\n",
       "    </tr>\n",
       "  </thead>\n",
       "  <tbody>\n",
       "    <tr>\n",
       "      <th>3992</th>\n",
       "      <td>G80</td>\n",
       "      <td>Riyadh</td>\n",
       "      <td>Genesis</td>\n",
       "      <td>Automatic</td>\n",
       "      <td>Other</td>\n",
       "      <td>Semi Full</td>\n",
       "      <td>2018</td>\n",
       "      <td>3.8</td>\n",
       "      <td>170000</td>\n",
       "      <td>False</td>\n",
       "      <td>500</td>\n",
       "    </tr>\n",
       "    <tr>\n",
       "      <th>4399</th>\n",
       "      <td>Yaris</td>\n",
       "      <td>Riyadh</td>\n",
       "      <td>Toyota</td>\n",
       "      <td>Automatic</td>\n",
       "      <td>Saudi</td>\n",
       "      <td>Standard</td>\n",
       "      <td>2018</td>\n",
       "      <td>1.5</td>\n",
       "      <td>100000</td>\n",
       "      <td>False</td>\n",
       "      <td>850</td>\n",
       "    </tr>\n",
       "    <tr>\n",
       "      <th>5128</th>\n",
       "      <td>Rio</td>\n",
       "      <td>Arar</td>\n",
       "      <td>Kia</td>\n",
       "      <td>Automatic</td>\n",
       "      <td>Saudi</td>\n",
       "      <td>Standard</td>\n",
       "      <td>2019</td>\n",
       "      <td>1.4</td>\n",
       "      <td>55500</td>\n",
       "      <td>False</td>\n",
       "      <td>884</td>\n",
       "    </tr>\n",
       "    <tr>\n",
       "      <th>3474</th>\n",
       "      <td>Yaris</td>\n",
       "      <td>Najran</td>\n",
       "      <td>Toyota</td>\n",
       "      <td>Automatic</td>\n",
       "      <td>Saudi</td>\n",
       "      <td>Standard</td>\n",
       "      <td>2019</td>\n",
       "      <td>1.6</td>\n",
       "      <td>85000</td>\n",
       "      <td>False</td>\n",
       "      <td>950</td>\n",
       "    </tr>\n",
       "    <tr>\n",
       "      <th>3760</th>\n",
       "      <td>5</td>\n",
       "      <td>Al-Ahsa</td>\n",
       "      <td>MG</td>\n",
       "      <td>Automatic</td>\n",
       "      <td>Saudi</td>\n",
       "      <td>Standard</td>\n",
       "      <td>2020</td>\n",
       "      <td>1.5</td>\n",
       "      <td>41000</td>\n",
       "      <td>False</td>\n",
       "      <td>988</td>\n",
       "    </tr>\n",
       "    <tr>\n",
       "      <th>3616</th>\n",
       "      <td>Elantra</td>\n",
       "      <td>Jeddah</td>\n",
       "      <td>Hyundai</td>\n",
       "      <td>Automatic</td>\n",
       "      <td>Saudi</td>\n",
       "      <td>Standard</td>\n",
       "      <td>2019</td>\n",
       "      <td>2.0</td>\n",
       "      <td>89000</td>\n",
       "      <td>False</td>\n",
       "      <td>993</td>\n",
       "    </tr>\n",
       "    <tr>\n",
       "      <th>1534</th>\n",
       "      <td>Yukon</td>\n",
       "      <td>Jeddah</td>\n",
       "      <td>GMC</td>\n",
       "      <td>Automatic</td>\n",
       "      <td>Saudi</td>\n",
       "      <td>Standard</td>\n",
       "      <td>2021</td>\n",
       "      <td>5.3</td>\n",
       "      <td>4000</td>\n",
       "      <td>False</td>\n",
       "      <td>1000</td>\n",
       "    </tr>\n",
       "    <tr>\n",
       "      <th>3892</th>\n",
       "      <td>Corolla</td>\n",
       "      <td>Hail</td>\n",
       "      <td>Toyota</td>\n",
       "      <td>Automatic</td>\n",
       "      <td>Saudi</td>\n",
       "      <td>Standard</td>\n",
       "      <td>2020</td>\n",
       "      <td>1.6</td>\n",
       "      <td>48563</td>\n",
       "      <td>False</td>\n",
       "      <td>1002</td>\n",
       "    </tr>\n",
       "    <tr>\n",
       "      <th>46</th>\n",
       "      <td>Elantra</td>\n",
       "      <td>Abha</td>\n",
       "      <td>Hyundai</td>\n",
       "      <td>Automatic</td>\n",
       "      <td>Saudi</td>\n",
       "      <td>Semi Full</td>\n",
       "      <td>2020</td>\n",
       "      <td>2.0</td>\n",
       "      <td>27000</td>\n",
       "      <td>False</td>\n",
       "      <td>1010</td>\n",
       "    </tr>\n",
       "    <tr>\n",
       "      <th>5424</th>\n",
       "      <td>Yaris</td>\n",
       "      <td>Najran</td>\n",
       "      <td>Toyota</td>\n",
       "      <td>Automatic</td>\n",
       "      <td>Saudi</td>\n",
       "      <td>Full</td>\n",
       "      <td>2018</td>\n",
       "      <td>1.5</td>\n",
       "      <td>169000</td>\n",
       "      <td>False</td>\n",
       "      <td>1046</td>\n",
       "    </tr>\n",
       "  </tbody>\n",
       "</table>\n",
       "</div>"
      ],
      "text/plain": [
       "         Type   Region     Make  Gear_Type Origin    Options  Year  \\\n",
       "3992      G80   Riyadh  Genesis  Automatic  Other  Semi Full  2018   \n",
       "4399    Yaris   Riyadh   Toyota  Automatic  Saudi   Standard  2018   \n",
       "5128      Rio     Arar      Kia  Automatic  Saudi   Standard  2019   \n",
       "3474    Yaris   Najran   Toyota  Automatic  Saudi   Standard  2019   \n",
       "3760        5  Al-Ahsa       MG  Automatic  Saudi   Standard  2020   \n",
       "3616  Elantra   Jeddah  Hyundai  Automatic  Saudi   Standard  2019   \n",
       "1534    Yukon   Jeddah      GMC  Automatic  Saudi   Standard  2021   \n",
       "3892  Corolla     Hail   Toyota  Automatic  Saudi   Standard  2020   \n",
       "46    Elantra     Abha  Hyundai  Automatic  Saudi  Semi Full  2020   \n",
       "5424    Yaris   Najran   Toyota  Automatic  Saudi       Full  2018   \n",
       "\n",
       "      Engine_Size  Mileage  Negotiable  Price  \n",
       "3992          3.8   170000       False    500  \n",
       "4399          1.5   100000       False    850  \n",
       "5128          1.4    55500       False    884  \n",
       "3474          1.6    85000       False    950  \n",
       "3760          1.5    41000       False    988  \n",
       "3616          2.0    89000       False    993  \n",
       "1534          5.3     4000       False   1000  \n",
       "3892          1.6    48563       False   1002  \n",
       "46            2.0    27000       False   1010  \n",
       "5424          1.5   169000       False   1046  "
      ]
     },
     "execution_count": 22,
     "metadata": {},
     "output_type": "execute_result"
    }
   ],
   "source": [
    "df_model = df_model[df_model['Price'] != 1]\n",
    "df_model.head(10)"
   ]
  },
  {
   "attachments": {},
   "cell_type": "markdown",
   "metadata": {},
   "source": [
    "#### Outliers Detection\n",
    "\n",
    "- Dengan banyaknya jumlah outliers pada suatu data, hal tersebut dapat memengaruhi hasil dari analisis dan pemodelan yang sedang dibangun. Terdapat beberapa hal yang dapat menjadi pertimbangan sebelum diputuskan treatment apa yang akan diterapkan sesuai dengan data, salah satunya adalah dengan mempertimbangkan sisi domain knowledge."
   ]
  },
  {
   "cell_type": "code",
   "execution_count": 23,
   "metadata": {},
   "outputs": [
    {
     "data": {
      "image/png": "[encoded data removed]",
      "text/plain": [
       "<Figure size 1400x1000 with 4 Axes>"
      ]
     },
     "metadata": {},
     "output_type": "display_data"
    }
   ],
   "source": [
    "plt.figure(figsize=(14,10))\n",
    "\n",
    "plt.subplot(2,2,1)\n",
    "sns.boxplot(data= df_model, x= 'Year', color='red')\n",
    "\n",
    "plt.subplot(2,2,2)\n",
    "sns.boxplot(data= df_model, x= 'Engine_Size', color='blue')\n",
    "\n",
    "plt.subplot(2,2,3)\n",
    "sns.boxplot(data= df_model, x= 'Mileage', color='green')\n",
    "\n",
    "plt.subplot(2,2,4)\n",
    "sns.boxplot(data= df_model, x= 'Price', color='yellow')\n",
    "\n",
    "plt.show()"
   ]
  },
  {
   "attachments": {},
   "cell_type": "markdown",
   "metadata": {},
   "source": [
    "- Berdasarkan plot di atas dapat dilihat bahwa terdapat outliers pada masing-masing fitur. Untuk menangani permasalahan ini, akan dilakukan beberapa rekayasa data pada fitur-fitur dengan mempertimbangkan kombinasi antara domain knowledge dan juga hasil dari metode IQR. Selanjutnya, model yang dihasilkan hanya sebatas memprediksi listing baru pada rentang nilai-nilai data berdasarkan 'clean dataset' ini saja. Di luar rentang data yang sudah dibersihkan, hasil prediksi dari model akan bias dan tidak bisa dijamin keabsahannya."
   ]
  },
  {
   "cell_type": "code",
   "execution_count": 24,
   "metadata": {},
   "outputs": [],
   "source": [
    "# Membuat Fungsi Untuk Memeriksa Outliers\n",
    "def search_anomalies(data):\n",
    "    q1 = data.quantile(0.25)\n",
    "    q3 = data.quantile(0.75)\n",
    "    iqr = q3 -q1\n",
    "    limit = iqr*1.5\n",
    "    print(f'IQR: {iqr}')\n",
    "\n",
    "    lower_limit = q1 - limit\n",
    "    upper_limit = q3 + limit\n",
    "    print(f'Lower_Limit: {lower_limit}')\n",
    "    print(f'Upper_Limit: {upper_limit}')"
   ]
  },
  {
   "cell_type": "code",
   "execution_count": 25,
   "metadata": {},
   "outputs": [
    {
     "name": "stdout",
     "output_type": "stream",
     "text": [
      "IQR: 5.0\n",
      "Lower_Limit: 2005.5\n",
      "Upper_Limit: 2025.5\n"
     ]
    }
   ],
   "source": [
    "# Memeriksa Outliers Pada Fitur 'Year'\n",
    "search_anomalies(df_model['Year'])"
   ]
  },
  {
   "cell_type": "code",
   "execution_count": 26,
   "metadata": {},
   "outputs": [
    {
     "name": "stdout",
     "output_type": "stream",
     "text": [
      "IQR: 2.0\n",
      "Lower_Limit: -1.0\n",
      "Upper_Limit: 7.0\n"
     ]
    }
   ],
   "source": [
    "# Memeriksa Outliers Pada Fitur 'Engine_Size'\n",
    "search_anomalies(df_model['Engine_Size'])"
   ]
  },
  {
   "cell_type": "code",
   "execution_count": 27,
   "metadata": {},
   "outputs": [
    {
     "name": "stdout",
     "output_type": "stream",
     "text": [
      "IQR: 135000.0\n",
      "Lower_Limit: -154500.0\n",
      "Upper_Limit: 385500.0\n"
     ]
    }
   ],
   "source": [
    "# Memeriksa Outliers Pada Fitur 'Mileage'\n",
    "search_anomalies(df_model['Mileage'])"
   ]
  },
  {
   "cell_type": "code",
   "execution_count": 28,
   "metadata": {},
   "outputs": [
    {
     "name": "stdout",
     "output_type": "stream",
     "text": [
      "IQR: 59500.0\n",
      "Lower_Limit: -54250.0\n",
      "Upper_Limit: 183750.0\n"
     ]
    }
   ],
   "source": [
    "# Memeriksa Outliers Pada Fitur 'Price'\n",
    "search_anomalies(df_model['Price'])"
   ]
  },
  {
   "attachments": {},
   "cell_type": "markdown",
   "metadata": {},
   "source": [
    "#### Year"
   ]
  },
  {
   "cell_type": "code",
   "execution_count": 29,
   "metadata": {},
   "outputs": [
    {
     "data": {
      "text/plain": [
       "count    3823.000000\n",
       "mean     2014.850118\n",
       "std         5.111144\n",
       "min      1963.000000\n",
       "25%      2013.000000\n",
       "50%      2016.000000\n",
       "75%      2018.000000\n",
       "max      2021.000000\n",
       "Name: Year, dtype: float64"
      ]
     },
     "execution_count": 29,
     "metadata": {},
     "output_type": "execute_result"
    }
   ],
   "source": [
    "# Memeriksa Kolom 'Year' Dengan Statistik Deskriptif\n",
    "df_model['Year'].describe()"
   ]
  },
  {
   "cell_type": "code",
   "execution_count": 30,
   "metadata": {},
   "outputs": [
    {
     "data": {
      "text/plain": [
       "0"
      ]
     },
     "execution_count": 30,
     "metadata": {},
     "output_type": "execute_result"
    }
   ],
   "source": [
    "# Memeriksa Apakah Terdapat Nilai 'Year' > 2025.5\n",
    "df_model[df_model['Year'] > 2025.5].count()['Year']"
   ]
  },
  {
   "attachments": {},
   "cell_type": "markdown",
   "metadata": {},
   "source": [
    "- Berdasarkan metode IQR, batas atas yang didapat untuk fitur 'Year' adalah 2025,5. Pada hasil pemeriksaan, tidak ditemukan titik data dengan nilai yang lebih besar daripada 2025,5. Oleh sebab itu, data yang akan digunakan adalah nilai fitur 'Year' yang kurang dari atau sama dengan tahun 2025,5."
   ]
  },
  {
   "cell_type": "code",
   "execution_count": 31,
   "metadata": {},
   "outputs": [
    {
     "data": {
      "image/png": "[encoded data removed]",
      "text/plain": [
       "<Figure size 2000x600 with 2 Axes>"
      ]
     },
     "metadata": {},
     "output_type": "display_data"
    }
   ],
   "source": [
    "# Melakukan Filter Data \n",
    "df_model = df_model[(df_model['Year'] <= 2025.5)]\n",
    "\n",
    "# Distribusi Plot Sebelum & Sesudah Melakukan Filter\n",
    "fig, axes = plt.subplots(1,2, figsize=(20, 6))\n",
    "sns.distplot(df_SaudiCars['Year'], ax= axes[0], color='red')\n",
    "sns.distplot(df_model['Year'], ax= axes[1], color='red')\n",
    "axes[0].set_xlabel('Year')\n",
    "axes[1].set_xlabel('Range Selected Year');"
   ]
  },
  {
   "cell_type": "code",
   "execution_count": 32,
   "metadata": {},
   "outputs": [
    {
     "data": {
      "text/plain": [
       "count    3823.000000\n",
       "mean     2014.850118\n",
       "std         5.111144\n",
       "min      1963.000000\n",
       "25%      2013.000000\n",
       "50%      2016.000000\n",
       "75%      2018.000000\n",
       "max      2021.000000\n",
       "Name: Year, dtype: float64"
      ]
     },
     "execution_count": 32,
     "metadata": {},
     "output_type": "execute_result"
    }
   ],
   "source": [
    "# Memeriksa Kolom 'Year' Dengan Statistik Deskriptif Setelah Dilakukan Filter\n",
    "df_model['Year'].describe()"
   ]
  },
  {
   "attachments": {},
   "cell_type": "markdown",
   "metadata": {},
   "source": [
    "#### Engine Size"
   ]
  },
  {
   "cell_type": "code",
   "execution_count": 33,
   "metadata": {},
   "outputs": [
    {
     "data": {
      "text/plain": [
       "count    3823.000000\n",
       "mean        3.180565\n",
       "std         1.458620\n",
       "min         1.000000\n",
       "25%         2.000000\n",
       "50%         2.700000\n",
       "75%         4.000000\n",
       "max         9.000000\n",
       "Name: Engine_Size, dtype: float64"
      ]
     },
     "execution_count": 33,
     "metadata": {},
     "output_type": "execute_result"
    }
   ],
   "source": [
    "# Memeriksa Kolom 'Engine_Size' Dengan Statistik Deskriptif\n",
    "df_model['Engine_Size'].describe()"
   ]
  },
  {
   "cell_type": "code",
   "execution_count": 34,
   "metadata": {},
   "outputs": [
    {
     "data": {
      "text/plain": [
       "30"
      ]
     },
     "execution_count": 34,
     "metadata": {},
     "output_type": "execute_result"
    }
   ],
   "source": [
    "# Memeriksa Apakah Terdapat Nilai 'Engine_Size' > 7\n",
    "df_model[df_model['Engine_Size'] > 7].count()['Engine_Size']"
   ]
  },
  {
   "attachments": {},
   "cell_type": "markdown",
   "metadata": {},
   "source": [
    "- Dapat terlihat bahwa 75% dari data di kolom 'Engine_Size' adalah kurang dari 4, sedangkan untuk nilai maksimumnya adalah 9. Terdapat kecenderungan data dengan ekor memanjang ke sisi kanan pada distribusi (positive skewness). Data tersebut terdiri atas 26 titik dengan nilai 'Engine_Size' yang lebih besar dari 7 (batas atas berdasarkan metode IQR). Oleh sebab itu, titik data 'Engine_Size' dengan nilai lebih besar dari 7 tidak akan diikutsertakan dalam pemodelan, sehingga akan mengurangi kemiringan. Hal ini tentu akan menjadi batasan baru bagi model yang akan dibangun.\n",
    "- Perlu untuk diingat juga bahwa batasan baru ini bisa berpengaruh terhadap akurasi dan kemampuan generalisasi model, terutama apabila terdapat tren atau pola penting dalam rentang data 'Engine_Size' tinggi yang tidak ditangkap di dalam data. Oleh karena itu, perlu dipertimbangkan kembali pendekatan alternatif yang dapat menangani skewness dan outlier, seperti mengganti data atau menerapkan teknik regresi yang lebih toleran terhadap outlier."
   ]
  },
  {
   "cell_type": "code",
   "execution_count": 35,
   "metadata": {},
   "outputs": [
    {
     "data": {
      "image/png": "[encoded data removed]",
      "text/plain": [
       "<Figure size 2000x600 with 2 Axes>"
      ]
     },
     "metadata": {},
     "output_type": "display_data"
    }
   ],
   "source": [
    "# Melakukan Filter Data \n",
    "df_model = df_model[(df_model['Engine_Size'] <= 7)]\n",
    "\n",
    "# Distribusi Plot Sebelum & Sesudah Melakukan Filter\n",
    "fig, axes = plt.subplots(1,2, figsize=(20, 6))\n",
    "sns.distplot(df_SaudiCars['Engine_Size'], ax= axes[0], color='blue')\n",
    "sns.distplot(df_model['Engine_Size'], ax= axes[1], color='blue')\n",
    "axes[0].set_xlabel('Engine Size')\n",
    "axes[1].set_xlabel('Range Selected Engine Size');"
   ]
  },
  {
   "cell_type": "code",
   "execution_count": 36,
   "metadata": {},
   "outputs": [
    {
     "data": {
      "text/plain": [
       "count    3793.000000\n",
       "mean        3.140944\n",
       "std         1.393656\n",
       "min         1.000000\n",
       "25%         2.000000\n",
       "50%         2.700000\n",
       "75%         4.000000\n",
       "max         7.000000\n",
       "Name: Engine_Size, dtype: float64"
      ]
     },
     "execution_count": 36,
     "metadata": {},
     "output_type": "execute_result"
    }
   ],
   "source": [
    "# Memeriksa Kolom 'Engine_Size' Dengan Statistik Deskriptif Setelah Dilakukan Filter\n",
    "df_model['Engine_Size'].describe()"
   ]
  },
  {
   "attachments": {},
   "cell_type": "markdown",
   "metadata": {},
   "source": [
    "#### Mileage"
   ]
  },
  {
   "cell_type": "code",
   "execution_count": 37,
   "metadata": {},
   "outputs": [
    {
     "data": {
      "text/plain": [
       "count    3.793000e+03\n",
       "mean     1.428055e+05\n",
       "std      3.798194e+05\n",
       "min      1.000000e+02\n",
       "25%      4.851100e+04\n",
       "50%      1.030000e+05\n",
       "75%      1.830000e+05\n",
       "max      2.000000e+07\n",
       "Name: Mileage, dtype: float64"
      ]
     },
     "execution_count": 37,
     "metadata": {},
     "output_type": "execute_result"
    }
   ],
   "source": [
    "# Memeriksa Kolom 'Mileage' Dengan Statistik Deskriptif\n",
    "df_model['Mileage'].describe()"
   ]
  },
  {
   "cell_type": "code",
   "execution_count": 38,
   "metadata": {},
   "outputs": [
    {
     "data": {
      "text/plain": [
       "131"
      ]
     },
     "execution_count": 38,
     "metadata": {},
     "output_type": "execute_result"
    }
   ],
   "source": [
    "# Memeriksa Apakah Terdapat Nilai 'Mileage' > 385500\n",
    "df_model[df_model['Mileage'] > 385500].count()['Mileage']"
   ]
  },
  {
   "attachments": {},
   "cell_type": "markdown",
   "metadata": {},
   "source": [
    "- Dapat terlihat bahwa 75% dari data di kolom 'Mileage' adalah kurang dari 1.900000e+05, sedangkan untuk nilai maksimumnya adalah 2.000000e+07. Terdapat kecenderungan data dengan ekor memanjang ke sisi kanan pada distribusi (positive skewness). Data tersebut terdiri atas 130 titik dengan nilai 'Mileage' yang lebih besar dari 385.500 (batas atas berdasarkan metode IQR). Oleh sebab itu, titik data 'Mileage' dengan nilai lebih besar dari 385.500 tidak akan diikutsertakan dalam pemodelan, sehingga akan mengurangi kemiringan. Hal ini tentu akan menjadi batasan baru bagi model yang akan dibangun.\n",
    "- Perlu untuk diingat juga bahwa batasan baru ini bisa berpengaruh terhadap akurasi dan kemampuan generalisasi model, terutama apabila terdapat tren atau pola penting dalam rentang data 'Mileage' tinggi yang tidak ditangkap di dalam data. Oleh karena itu, perlu dipertimbangkan kembali pendekatan alternatif yang dapat menangani skewness dan outlier, seperti mengganti data atau menerapkan teknik regresi yang lebih toleran terhadap outlier."
   ]
  },
  {
   "cell_type": "code",
   "execution_count": 39,
   "metadata": {},
   "outputs": [
    {
     "data": {
      "image/png": "[encoded data removed]",
      "text/plain": [
       "<Figure size 2000x600 with 2 Axes>"
      ]
     },
     "metadata": {},
     "output_type": "display_data"
    }
   ],
   "source": [
    "# Melakukan Filter Data \n",
    "df_model = df_model[(df_model['Mileage'] < 385500)]\n",
    "\n",
    "# Distribusi Plot Sebelum & Sesudah Melakukan Filter\n",
    "fig, axes = plt.subplots(1,2, figsize=(20, 6))\n",
    "sns.distplot(df_SaudiCars['Mileage'], ax= axes[0], color='green')\n",
    "sns.distplot(df_model['Mileage'], ax= axes[1], color='green')\n",
    "axes[0].set_xlabel('Mileage')\n",
    "axes[1].set_xlabel('Range Selected Mileage');"
   ]
  },
  {
   "cell_type": "code",
   "execution_count": 40,
   "metadata": {},
   "outputs": [
    {
     "data": {
      "text/plain": [
       "count      3662.000000\n",
       "mean     116795.552703\n",
       "std       91684.242192\n",
       "min         100.000000\n",
       "25%       46000.000000\n",
       "50%       99000.000000\n",
       "75%      173000.000000\n",
       "max      384000.000000\n",
       "Name: Mileage, dtype: float64"
      ]
     },
     "execution_count": 40,
     "metadata": {},
     "output_type": "execute_result"
    }
   ],
   "source": [
    "# Memeriksa Kolom 'Mileage' Dengan Statistik Deskriptif Setelah Dilakukan Filter\n",
    "df_model['Mileage'].describe()"
   ]
  },
  {
   "attachments": {},
   "cell_type": "markdown",
   "metadata": {},
   "source": [
    "#### Price"
   ]
  },
  {
   "cell_type": "code",
   "execution_count": 41,
   "metadata": {},
   "outputs": [
    {
     "data": {
      "text/plain": [
       "count      3662.000000\n",
       "mean      79335.661387\n",
       "std       72981.232021\n",
       "min         500.000000\n",
       "25%       36500.000000\n",
       "50%       59000.000000\n",
       "75%       95000.000000\n",
       "max      850000.000000\n",
       "Name: Price, dtype: float64"
      ]
     },
     "execution_count": 41,
     "metadata": {},
     "output_type": "execute_result"
    }
   ],
   "source": [
    "# Memeriksa Kolom 'Price' Dengan Statistik Deskriptif\n",
    "df_model['Price'].describe()"
   ]
  },
  {
   "cell_type": "code",
   "execution_count": 42,
   "metadata": {},
   "outputs": [
    {
     "data": {
      "text/plain": [
       "254"
      ]
     },
     "execution_count": 42,
     "metadata": {},
     "output_type": "execute_result"
    }
   ],
   "source": [
    "# Memeriksa Apakah Terdapat Nilai 'Price' > $183750\n",
    "df_model[df_model['Price'] > 183750.0].count()['Price']"
   ]
  },
  {
   "attachments": {},
   "cell_type": "markdown",
   "metadata": {},
   "source": [
    "- Dapat terlihat bahwa 75% dari data di kolom 'Price' adalah kurang dari 94.500, sedangkan untuk nilai maksimumnya adalah 850.000. Terdapat kecenderungan data dengan ekor memanjang ke sisi kanan pada distribusi (positive skewness). Data tersebut terdiri atas 259 titik dengan nilai 'Price' yang lebih besar dari 183.750 (batas atas berdasarkan metode IQR). Oleh sebab itu, titik data 'Price' dengan nilai lebih besar dari 183.750 tidak akan diikutsertakan dalam pemodelan, sehingga akan mengurangi kemiringan. Hal ini tentu akan menjadi batasan baru bagi model yang akan dibangun.\n",
    "- Perlu untuk diingat juga bahwa batasan baru ini bisa berpengaruh terhadap akurasi dan kemampuan generalisasi model, terutama apabila terdapat tren atau pola penting dalam rentang data 'Price' tinggi yang tidak ditangkap di dalam data. Oleh karena itu, perlu dipertimbangkan kembali pendekatan alternatif yang dapat menangani skewness dan outlier, seperti mengganti data atau menerapkan teknik regresi yang lebih toleran terhadap outlier."
   ]
  },
  {
   "cell_type": "code",
   "execution_count": 43,
   "metadata": {},
   "outputs": [
    {
     "data": {
      "image/png": "[encoded data removed]",
      "text/plain": [
       "<Figure size 2000x600 with 2 Axes>"
      ]
     },
     "metadata": {},
     "output_type": "display_data"
    }
   ],
   "source": [
    "# Melakukan Filter Data \n",
    "df_model = df_model[(df_model['Price'] <= 183750)]\n",
    "\n",
    "# Distribusi Plot Sebelum & Sesudah Melakukan Filter\n",
    "fig, axes = plt.subplots(1,2, figsize=(20, 6))\n",
    "sns.distplot(df_SaudiCars['Price'], ax= axes[0], color='yellow')\n",
    "sns.distplot(df_model['Price'], ax= axes[1], color='yellow')\n",
    "axes[0].set_xlabel('Price')\n",
    "axes[1].set_xlabel('Range Selected Price');"
   ]
  },
  {
   "cell_type": "code",
   "execution_count": 44,
   "metadata": {},
   "outputs": [
    {
     "data": {
      "text/plain": [
       "count      3408.000000\n",
       "mean      64003.166667\n",
       "std       39334.004532\n",
       "min         500.000000\n",
       "25%       35000.000000\n",
       "50%       55000.000000\n",
       "75%       83000.000000\n",
       "max      183000.000000\n",
       "Name: Price, dtype: float64"
      ]
     },
     "execution_count": 44,
     "metadata": {},
     "output_type": "execute_result"
    }
   ],
   "source": [
    "# Memeriksa Kolom 'Price' Dengan Statistik Deskriptif Setelah Dilakukan Filter\n",
    "df_model['Price'].describe()"
   ]
  },
  {
   "cell_type": "code",
   "execution_count": 45,
   "metadata": {},
   "outputs": [
    {
     "data": {
      "text/plain": [
       "count       3408\n",
       "unique        27\n",
       "top       Riyadh\n",
       "freq        1436\n",
       "Name: Region, dtype: object"
      ]
     },
     "execution_count": 45,
     "metadata": {},
     "output_type": "execute_result"
    }
   ],
   "source": [
    "# Memeriksa Kolom 'Region' Dengan Statistik Deskriptif\n",
    "df_model['Region'].describe()"
   ]
  },
  {
   "cell_type": "code",
   "execution_count": 46,
   "metadata": {},
   "outputs": [
    {
     "data": {
      "text/plain": [
       "count       3408\n",
       "unique        53\n",
       "top       Toyota\n",
       "freq         776\n",
       "Name: Make, dtype: object"
      ]
     },
     "execution_count": 46,
     "metadata": {},
     "output_type": "execute_result"
    }
   ],
   "source": [
    "# Memeriksa Kolom 'Type' Dengan Statistik Deskriptif\n",
    "df_model['Make'].describe()"
   ]
  },
  {
   "cell_type": "code",
   "execution_count": 47,
   "metadata": {},
   "outputs": [
    {
     "data": {
      "text/plain": [
       "count          3408\n",
       "unique            2\n",
       "top       Automatic\n",
       "freq           3057\n",
       "Name: Gear_Type, dtype: object"
      ]
     },
     "execution_count": 47,
     "metadata": {},
     "output_type": "execute_result"
    }
   ],
   "source": [
    "# Memeriksa Kolom 'Gear_Type' Dengan Statistik Deskriptif\n",
    "df_model['Gear_Type'].describe()"
   ]
  },
  {
   "cell_type": "code",
   "execution_count": 48,
   "metadata": {},
   "outputs": [
    {
     "data": {
      "text/plain": [
       "count         3408\n",
       "unique           3\n",
       "top       Standard\n",
       "freq          1268\n",
       "Name: Options, dtype: object"
      ]
     },
     "execution_count": 48,
     "metadata": {},
     "output_type": "execute_result"
    }
   ],
   "source": [
    "# Memeriksa Kolom 'Options' Dengan Statistik Deskriptif\n",
    "df_model['Options'].describe()"
   ]
  },
  {
   "attachments": {},
   "cell_type": "markdown",
   "metadata": {},
   "source": [
    "### Feature Selection\n",
    "Terdapat beberapa pertimbangan sebelum dilakukan proses pemilihan pada kolom atau fitur. Sebagai bahan pertimbangan, pada tahap awal ini digunakan domain knowledge untuk memutuskan fitur apa saja yang dirasa tidak memiliki relevansi terhadap model nantinya.\n",
    "\n",
    "- Sebelum memulai tahap ini dengan metode korelasi, feature 'Negotiable' akan dieliminasi terlebih dahulu dari dataset. Berdasarkan domain knowledge, fitur ini dirasa tidak memiliki relevansi untuk membangun model. Fitur tersebut hanya berisikan type data Boolean, dimana nilai 'True' menunjukkan bahwa harga mobil dapat dinegosiasi dan nilai 'False' menunjukkan arti sebaliknya. Sedangkan model yang ingin dibuat adalah untuk memprediksi harga awal dari setiap mobil bekas yang akan dijual, bukan harga dari setiap mobil setelah proses negosiasi."
   ]
  },
  {
   "cell_type": "code",
   "execution_count": 49,
   "metadata": {},
   "outputs": [],
   "source": [
    "# Mengeliminasi Fitur 'Negotiable' dari Dataset\n",
    "df_model.drop(columns=['Negotiable'], inplace = True)"
   ]
  },
  {
   "cell_type": "code",
   "execution_count": 50,
   "metadata": {},
   "outputs": [
    {
     "data": {
      "image/png": "[encoded data removed]",
      "text/plain": [
       "<Figure size 1000x800 with 2 Axes>"
      ]
     },
     "metadata": {},
     "output_type": "display_data"
    }
   ],
   "source": [
    "# Memeriksa Koefisien Korelasi Untuk Melihat Variabel Apa Saja Yang Berkorelasi Tinggi\n",
    "plt.figure(figsize=(10,8))\n",
    "sns.heatmap(df_model.corr(), annot=True)\n",
    "plt.title('Correlation Matrix', size= 14, weight= 'bold');\n",
    "plt.show()"
   ]
  },
  {
   "attachments": {},
   "cell_type": "markdown",
   "metadata": {},
   "source": [
    "Berdasarkan Heatmap di atas:\n",
    "- Matriks korelasi menunjukkan bahwa masing-masing fitur ('Year', 'Engine_Size', 'Mileage') tidak ada  yang memiliki korelasi yang kuat dengan fitur 'Price'.\n",
    "- Namun, dapat terlihat bahwa fitur 'Year' dan 'Engine_Size' berkorelasi positif dengan fitur 'Price', sedangkan fitur 'Mileage' berkorelasi negatif."
   ]
  },
  {
   "cell_type": "code",
   "execution_count": 51,
   "metadata": {},
   "outputs": [],
   "source": [
    "import seaborn as sns\n",
    "import dython\n",
    "from dython.nominal import correlation_ratio"
   ]
  },
  {
   "cell_type": "code",
   "execution_count": 52,
   "metadata": {},
   "outputs": [],
   "source": [
    "objects = df_model.columns[df_model.dtypes == 'object'] "
   ]
  },
  {
   "cell_type": "code",
   "execution_count": 53,
   "metadata": {},
   "outputs": [],
   "source": [
    "features = []\n",
    "\n",
    "for i in objects:\n",
    "    corr = round(correlation_ratio(df_model[i], df_model['Price']), 2)\n",
    "    features.append(corr)"
   ]
  },
  {
   "cell_type": "code",
   "execution_count": 54,
   "metadata": {},
   "outputs": [],
   "source": [
    "df_cor_ratio = pd.DataFrame(data = [features], columns = [objects], index=['Price'])"
   ]
  },
  {
   "cell_type": "code",
   "execution_count": 55,
   "metadata": {},
   "outputs": [
    {
     "data": {
      "image/png": "[encoded data removed]",
      "text/plain": [
       "<Figure size 1600x200 with 1 Axes>"
      ]
     },
     "metadata": {},
     "output_type": "display_data"
    }
   ],
   "source": [
    "plt.figure(figsize=(16,2))\n",
    "sns.heatmap(df_cor_ratio, annot=True, cbar =False)\n",
    "plt.show()"
   ]
  },
  {
   "attachments": {},
   "cell_type": "markdown",
   "metadata": {},
   "source": [
    "- Berdasarkan hasil pengujian rasio korelasi di atas dapat terlihat bahwa fitur 'Type' memiliki nilai korelasi yang baik, sedangkan fitur lainnya kurang begitu baik. Maka dari itu diputuskan akan ada beberapa fitur yang dieliminasi dari dataset, yaitu fitur 'Make' dan 'Origin'. \n",
    "- Fitur 'Make' akan dieliminasi karena fitur tersebut dan juga fitur 'Type' menjelaskan sebuah hal yang serupa. Fitur 'Type' terdiri atas masing-masing nama mobil yang tidak mungkin memiliki nama yang sama, sedangkan fitur 'Make' merupakan nama perusahaan manufaktur yang memproduksi mobil-mobil tersebut. Terdapat kemungkinan bahwa 1 perusahaan memproduksi lebih dari satu nama mobil. \n",
    "- Fitur 'Origin' juga akan dieliminasi karena memiliki nilai korelasi yang rendah dan asal dari sebuah mobil dirasa tidak akan berpengaruh banyak terhadap harga mobil bekas. Sedangkan fitur 'Region' dirasa lebih penting, karena data-data pada fitur tersebut merupakan nama wilayah dimana mobil bekas ini terjual."
   ]
  },
  {
   "cell_type": "code",
   "execution_count": 56,
   "metadata": {},
   "outputs": [
    {
     "data": {
      "text/html": [
       "<div>\n",
       "<style scoped>\n",
       "    .dataframe tbody tr th:only-of-type {\n",
       "        vertical-align: middle;\n",
       "    }\n",
       "\n",
       "    .dataframe tbody tr th {\n",
       "        vertical-align: top;\n",
       "    }\n",
       "\n",
       "    .dataframe thead th {\n",
       "        text-align: right;\n",
       "    }\n",
       "</style>\n",
       "<table border=\"1\" class=\"dataframe\">\n",
       "  <thead>\n",
       "    <tr style=\"text-align: right;\">\n",
       "      <th></th>\n",
       "      <th>Type</th>\n",
       "      <th>Region</th>\n",
       "      <th>Gear_Type</th>\n",
       "      <th>Options</th>\n",
       "      <th>Year</th>\n",
       "      <th>Engine_Size</th>\n",
       "      <th>Mileage</th>\n",
       "      <th>Price</th>\n",
       "    </tr>\n",
       "  </thead>\n",
       "  <tbody>\n",
       "    <tr>\n",
       "      <th>3992</th>\n",
       "      <td>G80</td>\n",
       "      <td>Riyadh</td>\n",
       "      <td>Automatic</td>\n",
       "      <td>Semi Full</td>\n",
       "      <td>2018</td>\n",
       "      <td>3.8</td>\n",
       "      <td>170000</td>\n",
       "      <td>500</td>\n",
       "    </tr>\n",
       "    <tr>\n",
       "      <th>4399</th>\n",
       "      <td>Yaris</td>\n",
       "      <td>Riyadh</td>\n",
       "      <td>Automatic</td>\n",
       "      <td>Standard</td>\n",
       "      <td>2018</td>\n",
       "      <td>1.5</td>\n",
       "      <td>100000</td>\n",
       "      <td>850</td>\n",
       "    </tr>\n",
       "    <tr>\n",
       "      <th>5128</th>\n",
       "      <td>Rio</td>\n",
       "      <td>Arar</td>\n",
       "      <td>Automatic</td>\n",
       "      <td>Standard</td>\n",
       "      <td>2019</td>\n",
       "      <td>1.4</td>\n",
       "      <td>55500</td>\n",
       "      <td>884</td>\n",
       "    </tr>\n",
       "    <tr>\n",
       "      <th>3474</th>\n",
       "      <td>Yaris</td>\n",
       "      <td>Najran</td>\n",
       "      <td>Automatic</td>\n",
       "      <td>Standard</td>\n",
       "      <td>2019</td>\n",
       "      <td>1.6</td>\n",
       "      <td>85000</td>\n",
       "      <td>950</td>\n",
       "    </tr>\n",
       "    <tr>\n",
       "      <th>3760</th>\n",
       "      <td>5</td>\n",
       "      <td>Al-Ahsa</td>\n",
       "      <td>Automatic</td>\n",
       "      <td>Standard</td>\n",
       "      <td>2020</td>\n",
       "      <td>1.5</td>\n",
       "      <td>41000</td>\n",
       "      <td>988</td>\n",
       "    </tr>\n",
       "    <tr>\n",
       "      <th>3616</th>\n",
       "      <td>Elantra</td>\n",
       "      <td>Jeddah</td>\n",
       "      <td>Automatic</td>\n",
       "      <td>Standard</td>\n",
       "      <td>2019</td>\n",
       "      <td>2.0</td>\n",
       "      <td>89000</td>\n",
       "      <td>993</td>\n",
       "    </tr>\n",
       "    <tr>\n",
       "      <th>1534</th>\n",
       "      <td>Yukon</td>\n",
       "      <td>Jeddah</td>\n",
       "      <td>Automatic</td>\n",
       "      <td>Standard</td>\n",
       "      <td>2021</td>\n",
       "      <td>5.3</td>\n",
       "      <td>4000</td>\n",
       "      <td>1000</td>\n",
       "    </tr>\n",
       "    <tr>\n",
       "      <th>3892</th>\n",
       "      <td>Corolla</td>\n",
       "      <td>Hail</td>\n",
       "      <td>Automatic</td>\n",
       "      <td>Standard</td>\n",
       "      <td>2020</td>\n",
       "      <td>1.6</td>\n",
       "      <td>48563</td>\n",
       "      <td>1002</td>\n",
       "    </tr>\n",
       "    <tr>\n",
       "      <th>46</th>\n",
       "      <td>Elantra</td>\n",
       "      <td>Abha</td>\n",
       "      <td>Automatic</td>\n",
       "      <td>Semi Full</td>\n",
       "      <td>2020</td>\n",
       "      <td>2.0</td>\n",
       "      <td>27000</td>\n",
       "      <td>1010</td>\n",
       "    </tr>\n",
       "    <tr>\n",
       "      <th>5424</th>\n",
       "      <td>Yaris</td>\n",
       "      <td>Najran</td>\n",
       "      <td>Automatic</td>\n",
       "      <td>Full</td>\n",
       "      <td>2018</td>\n",
       "      <td>1.5</td>\n",
       "      <td>169000</td>\n",
       "      <td>1046</td>\n",
       "    </tr>\n",
       "  </tbody>\n",
       "</table>\n",
       "</div>"
      ],
      "text/plain": [
       "         Type   Region  Gear_Type    Options  Year  Engine_Size  Mileage  \\\n",
       "3992      G80   Riyadh  Automatic  Semi Full  2018          3.8   170000   \n",
       "4399    Yaris   Riyadh  Automatic   Standard  2018          1.5   100000   \n",
       "5128      Rio     Arar  Automatic   Standard  2019          1.4    55500   \n",
       "3474    Yaris   Najran  Automatic   Standard  2019          1.6    85000   \n",
       "3760        5  Al-Ahsa  Automatic   Standard  2020          1.5    41000   \n",
       "3616  Elantra   Jeddah  Automatic   Standard  2019          2.0    89000   \n",
       "1534    Yukon   Jeddah  Automatic   Standard  2021          5.3     4000   \n",
       "3892  Corolla     Hail  Automatic   Standard  2020          1.6    48563   \n",
       "46    Elantra     Abha  Automatic  Semi Full  2020          2.0    27000   \n",
       "5424    Yaris   Najran  Automatic       Full  2018          1.5   169000   \n",
       "\n",
       "      Price  \n",
       "3992    500  \n",
       "4399    850  \n",
       "5128    884  \n",
       "3474    950  \n",
       "3760    988  \n",
       "3616    993  \n",
       "1534   1000  \n",
       "3892   1002  \n",
       "46     1010  \n",
       "5424   1046  "
      ]
     },
     "execution_count": 56,
     "metadata": {},
     "output_type": "execute_result"
    }
   ],
   "source": [
    "# Drop Fitur 'Make' dan 'Origin'\n",
    "df_model = df_model.drop(['Make', 'Origin'], axis=1)\n",
    "df_model.head(10)"
   ]
  },
  {
   "attachments": {},
   "cell_type": "markdown",
   "metadata": {},
   "source": [
    "### Clean Dataset"
   ]
  },
  {
   "cell_type": "code",
   "execution_count": 57,
   "metadata": {},
   "outputs": [
    {
     "data": {
      "text/html": [
       "<div>\n",
       "<style scoped>\n",
       "    .dataframe tbody tr th:only-of-type {\n",
       "        vertical-align: middle;\n",
       "    }\n",
       "\n",
       "    .dataframe tbody tr th {\n",
       "        vertical-align: top;\n",
       "    }\n",
       "\n",
       "    .dataframe thead th {\n",
       "        text-align: right;\n",
       "    }\n",
       "</style>\n",
       "<table border=\"1\" class=\"dataframe\">\n",
       "  <thead>\n",
       "    <tr style=\"text-align: right;\">\n",
       "      <th></th>\n",
       "      <th>Type</th>\n",
       "      <th>Region</th>\n",
       "      <th>Gear_Type</th>\n",
       "      <th>Options</th>\n",
       "      <th>Year</th>\n",
       "      <th>Engine_Size</th>\n",
       "      <th>Mileage</th>\n",
       "      <th>Price</th>\n",
       "    </tr>\n",
       "  </thead>\n",
       "  <tbody>\n",
       "    <tr>\n",
       "      <th>3992</th>\n",
       "      <td>G80</td>\n",
       "      <td>Riyadh</td>\n",
       "      <td>Automatic</td>\n",
       "      <td>Semi Full</td>\n",
       "      <td>2018</td>\n",
       "      <td>3.8</td>\n",
       "      <td>170000</td>\n",
       "      <td>500</td>\n",
       "    </tr>\n",
       "    <tr>\n",
       "      <th>4399</th>\n",
       "      <td>Yaris</td>\n",
       "      <td>Riyadh</td>\n",
       "      <td>Automatic</td>\n",
       "      <td>Standard</td>\n",
       "      <td>2018</td>\n",
       "      <td>1.5</td>\n",
       "      <td>100000</td>\n",
       "      <td>850</td>\n",
       "    </tr>\n",
       "    <tr>\n",
       "      <th>5128</th>\n",
       "      <td>Rio</td>\n",
       "      <td>Arar</td>\n",
       "      <td>Automatic</td>\n",
       "      <td>Standard</td>\n",
       "      <td>2019</td>\n",
       "      <td>1.4</td>\n",
       "      <td>55500</td>\n",
       "      <td>884</td>\n",
       "    </tr>\n",
       "    <tr>\n",
       "      <th>3474</th>\n",
       "      <td>Yaris</td>\n",
       "      <td>Najran</td>\n",
       "      <td>Automatic</td>\n",
       "      <td>Standard</td>\n",
       "      <td>2019</td>\n",
       "      <td>1.6</td>\n",
       "      <td>85000</td>\n",
       "      <td>950</td>\n",
       "    </tr>\n",
       "    <tr>\n",
       "      <th>3760</th>\n",
       "      <td>5</td>\n",
       "      <td>Al-Ahsa</td>\n",
       "      <td>Automatic</td>\n",
       "      <td>Standard</td>\n",
       "      <td>2020</td>\n",
       "      <td>1.5</td>\n",
       "      <td>41000</td>\n",
       "      <td>988</td>\n",
       "    </tr>\n",
       "    <tr>\n",
       "      <th>...</th>\n",
       "      <td>...</td>\n",
       "      <td>...</td>\n",
       "      <td>...</td>\n",
       "      <td>...</td>\n",
       "      <td>...</td>\n",
       "      <td>...</td>\n",
       "      <td>...</td>\n",
       "      <td>...</td>\n",
       "    </tr>\n",
       "    <tr>\n",
       "      <th>1662</th>\n",
       "      <td>Land Cruiser</td>\n",
       "      <td>Dammam</td>\n",
       "      <td>Automatic</td>\n",
       "      <td>Full</td>\n",
       "      <td>2015</td>\n",
       "      <td>5.7</td>\n",
       "      <td>119000</td>\n",
       "      <td>180000</td>\n",
       "    </tr>\n",
       "    <tr>\n",
       "      <th>2522</th>\n",
       "      <td>Wrangler</td>\n",
       "      <td>Riyadh</td>\n",
       "      <td>Automatic</td>\n",
       "      <td>Full</td>\n",
       "      <td>2019</td>\n",
       "      <td>3.6</td>\n",
       "      <td>16000</td>\n",
       "      <td>181000</td>\n",
       "    </tr>\n",
       "    <tr>\n",
       "      <th>2605</th>\n",
       "      <td>Land Cruiser</td>\n",
       "      <td>Dammam</td>\n",
       "      <td>Automatic</td>\n",
       "      <td>Full</td>\n",
       "      <td>2017</td>\n",
       "      <td>4.0</td>\n",
       "      <td>78000</td>\n",
       "      <td>182000</td>\n",
       "    </tr>\n",
       "    <tr>\n",
       "      <th>3396</th>\n",
       "      <td>GL</td>\n",
       "      <td>Makkah</td>\n",
       "      <td>Automatic</td>\n",
       "      <td>Full</td>\n",
       "      <td>2015</td>\n",
       "      <td>5.0</td>\n",
       "      <td>32000</td>\n",
       "      <td>183000</td>\n",
       "    </tr>\n",
       "    <tr>\n",
       "      <th>2842</th>\n",
       "      <td>ES</td>\n",
       "      <td>Jeddah</td>\n",
       "      <td>Automatic</td>\n",
       "      <td>Standard</td>\n",
       "      <td>2021</td>\n",
       "      <td>2.5</td>\n",
       "      <td>700</td>\n",
       "      <td>183000</td>\n",
       "    </tr>\n",
       "  </tbody>\n",
       "</table>\n",
       "<p>3408 rows × 8 columns</p>\n",
       "</div>"
      ],
      "text/plain": [
       "              Type   Region  Gear_Type    Options  Year  Engine_Size  Mileage  \\\n",
       "3992           G80   Riyadh  Automatic  Semi Full  2018          3.8   170000   \n",
       "4399         Yaris   Riyadh  Automatic   Standard  2018          1.5   100000   \n",
       "5128           Rio     Arar  Automatic   Standard  2019          1.4    55500   \n",
       "3474         Yaris   Najran  Automatic   Standard  2019          1.6    85000   \n",
       "3760             5  Al-Ahsa  Automatic   Standard  2020          1.5    41000   \n",
       "...            ...      ...        ...        ...   ...          ...      ...   \n",
       "1662  Land Cruiser   Dammam  Automatic       Full  2015          5.7   119000   \n",
       "2522      Wrangler   Riyadh  Automatic       Full  2019          3.6    16000   \n",
       "2605  Land Cruiser   Dammam  Automatic       Full  2017          4.0    78000   \n",
       "3396            GL   Makkah  Automatic       Full  2015          5.0    32000   \n",
       "2842            ES   Jeddah  Automatic   Standard  2021          2.5      700   \n",
       "\n",
       "       Price  \n",
       "3992     500  \n",
       "4399     850  \n",
       "5128     884  \n",
       "3474     950  \n",
       "3760     988  \n",
       "...      ...  \n",
       "1662  180000  \n",
       "2522  181000  \n",
       "2605  182000  \n",
       "3396  183000  \n",
       "2842  183000  \n",
       "\n",
       "[3408 rows x 8 columns]"
      ]
     },
     "execution_count": 57,
     "metadata": {},
     "output_type": "execute_result"
    }
   ],
   "source": [
    "df_model"
   ]
  },
  {
   "cell_type": "code",
   "execution_count": 58,
   "metadata": {},
   "outputs": [
    {
     "name": "stdout",
     "output_type": "stream",
     "text": [
      "<class 'pandas.core.frame.DataFrame'>\n",
      "Int64Index: 3408 entries, 3992 to 2842\n",
      "Data columns (total 8 columns):\n",
      " #   Column       Non-Null Count  Dtype  \n",
      "---  ------       --------------  -----  \n",
      " 0   Type         3408 non-null   object \n",
      " 1   Region       3408 non-null   object \n",
      " 2   Gear_Type    3408 non-null   object \n",
      " 3   Options      3408 non-null   object \n",
      " 4   Year         3408 non-null   int64  \n",
      " 5   Engine_Size  3408 non-null   float64\n",
      " 6   Mileage      3408 non-null   int64  \n",
      " 7   Price        3408 non-null   int64  \n",
      "dtypes: float64(1), int64(3), object(4)\n",
      "memory usage: 239.6+ KB\n"
     ]
    }
   ],
   "source": [
    "# Memeriksa Kembali Info Dataset\n",
    "df_model.info()"
   ]
  },
  {
   "attachments": {},
   "cell_type": "markdown",
   "metadata": {},
   "source": [
    "- Setelah data dibersihkan, tersisa 3.408 baris data yang akan dipakai dalam membangun model. Hal Ini menunjukkan bahwa terdapat hampir 40% data sudah tereliminasi pada tahap-tahap sebelumnya."
   ]
  },
  {
   "attachments": {},
   "cell_type": "markdown",
   "metadata": {},
   "source": [
    "### Feature Engineering"
   ]
  },
  {
   "attachments": {},
   "cell_type": "markdown",
   "metadata": {},
   "source": [
    "#### Encoding\n",
    "\n",
    "Setelah dilakukan proses Data Cleaning, masih terdapat beberapa fitur kategorikal yang dirasa dapat membantu pembuatan model. Oleh karena itu, fitur-fitur kategorikal tersebut harus diubah terlebih dahulu menjadi fitur numerikal agar bisa digunakan dalam pembuatan model. Fitur-fitur tersebut adalah 'Type', 'Region', 'Gear_Type', dan 'Options'.\n",
    "\n",
    "- Seperti yang kita ketahui, harga sebuah mobil sangat bergantung pada nama dari mobil tersebut, karena masing-masing mobil memiliki kekurangan dan keunggulannya masing-masing. Tidak mungkin ada 2 nama mobil yang berbeda, tetapi memiliki keunggulan dan kekurangan yang hampir sama 100%. Oleh karena itu, harga masing-masing mobil pun pasti berbeda juga.\n",
    "- Wilayah dari penjualan mobil juga menjadi salah satu faktor yang mempengaruhi harga jual. Semakin sulit wilayah tersebut untuk diakses, pada umumnya harga jual mobil di wilayah tersebut juga akan semakin meningkat. \n",
    "- Type transmisi dari mobil juga berdampak pada harga dari mobil itu sendiri. Pada umumnya, mobil dengan transmisi automatic akan lebih mahal dibandingkan dengan mobil dengan transmisi manual.\n",
    "- Harga mobil juga sangat tergantung pada fitur dan kelengkapan dari mobil itu sendiri ('Options') apakah Full, Semi Full, atau Standar. Semakin lengkap suatu fitur pada mobil, maka semakin mahal juga harga jualnya."
   ]
  },
  {
   "cell_type": "code",
   "execution_count": 59,
   "metadata": {},
   "outputs": [],
   "source": [
    "# Import Library Yang Dibutuhkan Untuk Encoding\n",
    "import category_encoders as ce\n",
    "from sklearn.preprocessing import OneHotEncoder\n",
    "from sklearn.preprocessing import OrdinalEncoder\n",
    "from sklearn.compose import ColumnTransformer\n",
    "from sklearn.pipeline import Pipeline"
   ]
  },
  {
   "cell_type": "code",
   "execution_count": 60,
   "metadata": {},
   "outputs": [],
   "source": [
    "# Membuat Mapping Ordinal Pada Fitur 'Options'\n",
    "ordinal_mapping = [{\n",
    "    'col' : 'Options',\n",
    "    'mapping' : {None: 0, 'Standard': 1, 'Semi Full': 2, 'Full': 3}\n",
    "}]\n",
    "\n",
    "ordinal_encoder = ce.OrdinalEncoder(cols = 'Options', mapping= ordinal_mapping)"
   ]
  },
  {
   "cell_type": "code",
   "execution_count": 61,
   "metadata": {},
   "outputs": [],
   "source": [
    "## Mengubah Fitur Kategorikal Menjadi Fitur Numerikal\n",
    "transformer = ColumnTransformer([\n",
    "    ('One Hot', OneHotEncoder(drop='first', handle_unknown = 'ignore'), ['Region', 'Gear_Type']),\n",
    "    ('Ordinal', ordinal_encoder, ['Options']),\n",
    "    ('Binary', ce.BinaryEncoder(), ['Type'])\n",
    "], remainder='passthrough')"
   ]
  },
  {
   "attachments": {},
   "cell_type": "markdown",
   "metadata": {},
   "source": [
    "## 4. Modeling"
   ]
  },
  {
   "cell_type": "code",
   "execution_count": 62,
   "metadata": {},
   "outputs": [],
   "source": [
    "# Import Library Yang Dibutuhkan Untuk Modeling\n",
    "\n",
    "from sklearn.model_selection import train_test_split, cross_val_score, RandomizedSearchCV, GridSearchCV, KFold\n",
    "\n",
    "from sklearn.linear_model import LinearRegression\n",
    "from sklearn.neighbors import KNeighborsRegressor\n",
    "from sklearn.tree import DecisionTreeRegressor\n",
    "from sklearn.ensemble import RandomForestRegressor, AdaBoostRegressor, GradientBoostingRegressor\n",
    "from xgboost.sklearn import XGBRegressor\n",
    "from sklearn.compose import TransformedTargetRegressor\n",
    "from xgboost import plot_importance\n",
    "from sklearn.preprocessing import StandardScaler\n",
    "from math import sqrt\n",
    "from sklearn.metrics import r2_score, mean_squared_error, mean_absolute_error, mean_absolute_percentage_error"
   ]
  },
  {
   "attachments": {},
   "cell_type": "markdown",
   "metadata": {},
   "source": [
    "#### Data Splitting"
   ]
  },
  {
   "cell_type": "code",
   "execution_count": 63,
   "metadata": {},
   "outputs": [],
   "source": [
    "# Memisahkan Independen Variabel Dengan Target\n",
    "X = df_model.drop(columns='Price', axis=1)\n",
    "y = df_model['Price']"
   ]
  },
  {
   "attachments": {},
   "cell_type": "markdown",
   "metadata": {},
   "source": [
    "#### Train & Test Splitting"
   ]
  },
  {
   "cell_type": "code",
   "execution_count": 64,
   "metadata": {},
   "outputs": [],
   "source": [
    "# Memisahkan Data Training Dan Data Test Dengan Proporsi 80:20\n",
    "X_train, X_test, y_train, y_test= train_test_split(\n",
    "    X,\n",
    "    y,  \n",
    "    test_size= 0.2,\n",
    "    random_state= 2023)"
   ]
  },
  {
   "cell_type": "code",
   "execution_count": 65,
   "metadata": {},
   "outputs": [
    {
     "data": {
      "text/plain": [
       "(              Type  Region  Gear_Type    Options  Year  Engine_Size  Mileage\n",
       " 2425  Land Cruiser  Dammam  Automatic       Full  2006          4.5   199000\n",
       " 5168      Victoria  Riyadh  Automatic  Semi Full  1999          1.0     4000\n",
       " 637         Fusion  Dammam  Automatic  Semi Full  2016          1.2    99200\n",
       " 1207        Altima  Jeddah  Automatic   Standard  2017          2.5    88000\n",
       " 4992        Accord  Riyadh  Automatic  Semi Full  2014          2.4    59000\n",
       " ...            ...     ...        ...        ...   ...          ...      ...\n",
       " 121       Senta fe  Riyadh  Automatic  Semi Full  2016          3.3   126000\n",
       " 5057      Explorer  Riyadh  Automatic       Full  2016          3.5    93000\n",
       " 2057        Tucson  Jeddah  Automatic  Semi Full  2020          2.0    22000\n",
       " 1580       Odyssey  Riyadh  Automatic  Semi Full  2016          3.5   185000\n",
       " 3904        Sonata  Jeddah  Automatic  Semi Full  2017          2.4   240000\n",
       " \n",
       " [2726 rows x 7 columns],\n",
       "                      Type  Region  Gear_Type    Options  Year  Engine_Size  \\\n",
       " 3604              Caprice  Riyadh  Automatic   Standard  2013          6.0   \n",
       " 5099                 F150  Dammam  Automatic  Semi Full  2019          5.4   \n",
       " 3770              Sorento  Riyadh  Automatic       Full  2016          3.3   \n",
       " 1042                Hilux  Qassim     Manual       Full  2015          2.7   \n",
       " 1906                Tahoe  Riyadh  Automatic  Semi Full  2011          5.3   \n",
       " ...                   ...     ...        ...        ...   ...          ...   \n",
       " 5402                Tahoe  Dammam  Automatic   Standard  2016          5.3   \n",
       " 2290               Pajero  Riyadh  Automatic  Semi Full  2016          3.5   \n",
       " 4116                Camry  Qassim  Automatic   Standard  2017          2.5   \n",
       " 190                    ES  Jeddah  Automatic       Full  2016          3.5   \n",
       " 2083  Land Cruiser Pickup  Riyadh     Manual       Full  2021          4.0   \n",
       " \n",
       "       Mileage  \n",
       " 3604    79159  \n",
       " 5099    13000  \n",
       " 3770   116000  \n",
       " 1042   328000  \n",
       " 1906   200000  \n",
       " ...       ...  \n",
       " 5402   194000  \n",
       " 2290   153042  \n",
       " 4116    84000  \n",
       " 190    103000  \n",
       " 2083     1519  \n",
       " \n",
       " [682 rows x 7 columns],\n",
       " 2425    77000\n",
       " 5168    10000\n",
       " 637     45000\n",
       " 1207    37000\n",
       " 4992    72000\n",
       "         ...  \n",
       " 121     63000\n",
       " 5057    95000\n",
       " 2057    80000\n",
       " 1580    52000\n",
       " 3904    35000\n",
       " Name: Price, Length: 2726, dtype: int64,\n",
       " 3604     75000\n",
       " 5099    108000\n",
       " 3770     53000\n",
       " 1042     66000\n",
       " 1906     42000\n",
       "          ...  \n",
       " 5402    108000\n",
       " 2290     61500\n",
       " 4116     45000\n",
       " 190     102000\n",
       " 2083    175000\n",
       " Name: Price, Length: 682, dtype: int64)"
      ]
     },
     "execution_count": 65,
     "metadata": {},
     "output_type": "execute_result"
    }
   ],
   "source": [
    "X_train, X_test, y_train, y_test"
   ]
  },
  {
   "cell_type": "code",
   "execution_count": 66,
   "metadata": {},
   "outputs": [
    {
     "data": {
      "text/plain": [
       "(2726, 7)"
      ]
     },
     "execution_count": 66,
     "metadata": {},
     "output_type": "execute_result"
    }
   ],
   "source": [
    "X_train.shape"
   ]
  },
  {
   "cell_type": "code",
   "execution_count": 67,
   "metadata": {},
   "outputs": [
    {
     "data": {
      "text/plain": [
       "(2726,)"
      ]
     },
     "execution_count": 67,
     "metadata": {},
     "output_type": "execute_result"
    }
   ],
   "source": [
    "y_train.shape"
   ]
  },
  {
   "attachments": {},
   "cell_type": "markdown",
   "metadata": {},
   "source": [
    "#### Benchmark Model"
   ]
  },
  {
   "cell_type": "code",
   "execution_count": 68,
   "metadata": {},
   "outputs": [
    {
     "name": "stdout",
     "output_type": "stream",
     "text": [
      "[-32244.51002731 -31575.49080742 -30476.50716034 -29117.20571818\n",
      " -28693.26276517] TransformedTargetRegressor(func=<ufunc 'log'>, inverse_func=<ufunc 'exp'>,\n",
      "                           regressor=LinearRegression())\n",
      "[-22822.97216362 -21523.55092481 -21663.66694186 -20540.18220053\n",
      " -20714.48728305] TransformedTargetRegressor(func=<ufunc 'log'>, inverse_func=<ufunc 'exp'>,\n",
      "                           regressor=LinearRegression())\n",
      "[-1.27536529 -0.88534343 -1.66129829 -1.03745797 -0.71786423] TransformedTargetRegressor(func=<ufunc 'log'>, inverse_func=<ufunc 'exp'>,\n",
      "                           regressor=LinearRegression())\n",
      "[0.36493239 0.38570987 0.38976658 0.42533444 0.43991819] TransformedTargetRegressor(func=<ufunc 'log'>, inverse_func=<ufunc 'exp'>,\n",
      "                           regressor=LinearRegression())\n",
      "[-30442.56016764 -30954.22982441 -32176.75625671 -30762.59247556\n",
      " -29586.32719004] TransformedTargetRegressor(func=<ufunc 'log'>, inverse_func=<ufunc 'exp'>,\n",
      "                           regressor=KNeighborsRegressor())\n",
      "[-20789.67764464 -21279.64444487 -21599.66013227 -21406.96783199\n",
      " -20478.92535912] TransformedTargetRegressor(func=<ufunc 'log'>, inverse_func=<ufunc 'exp'>,\n",
      "                           regressor=KNeighborsRegressor())\n",
      "[-1.27522905 -0.8256774  -1.59330625 -1.03820723 -0.84533022] TransformedTargetRegressor(func=<ufunc 'log'>, inverse_func=<ufunc 'exp'>,\n",
      "                           regressor=KNeighborsRegressor())\n",
      "[0.43392921 0.4096449  0.31977886 0.35855172 0.40451105] TransformedTargetRegressor(func=<ufunc 'log'>, inverse_func=<ufunc 'exp'>,\n",
      "                           regressor=KNeighborsRegressor())\n",
      "[-33972.37310549 -32993.33635344 -32421.83938502 -32073.15794397\n",
      " -27461.1167806 ] TransformedTargetRegressor(func=<ufunc 'log'>, inverse_func=<ufunc 'exp'>,\n",
      "                           regressor=DecisionTreeRegressor(random_state=2023))\n",
      "[-20846.38056782 -20851.68623617 -19976.7266055  -19773.51192661\n",
      " -17934.87830686] TransformedTargetRegressor(func=<ufunc 'log'>, inverse_func=<ufunc 'exp'>,\n",
      "                           regressor=DecisionTreeRegressor(random_state=2023))\n",
      "[-1.43378732 -0.93803601 -1.81242459 -1.09421779 -0.540557  ] TransformedTargetRegressor(func=<ufunc 'log'>, inverse_func=<ufunc 'exp'>,\n",
      "                           regressor=DecisionTreeRegressor(random_state=2023))\n",
      "[0.29504699 0.32930389 0.30937722 0.30273281 0.48698746] TransformedTargetRegressor(func=<ufunc 'log'>, inverse_func=<ufunc 'exp'>,\n",
      "                           regressor=DecisionTreeRegressor(random_state=2023))\n",
      "[-26979.30505142 -27742.76757138 -24864.60156398 -24536.4858267\n",
      " -22489.83352118] TransformedTargetRegressor(func=<ufunc 'log'>, inverse_func=<ufunc 'exp'>,\n",
      "                           regressor=RandomForestRegressor(random_state=2023))\n",
      "[-16947.65057764 -17305.89683204 -15534.14192519 -15155.23669409\n",
      " -14303.05266246] TransformedTargetRegressor(func=<ufunc 'log'>, inverse_func=<ufunc 'exp'>,\n",
      "                           regressor=RandomForestRegressor(random_state=2023))\n",
      "[-1.28534292 -0.82275831 -1.46489438 -0.8575245  -0.52086078] TransformedTargetRegressor(func=<ufunc 'log'>, inverse_func=<ufunc 'exp'>,\n",
      "                           regressor=RandomForestRegressor(random_state=2023))\n",
      "[0.55539953 0.52578762 0.59381058 0.59192452 0.65591632] TransformedTargetRegressor(func=<ufunc 'log'>, inverse_func=<ufunc 'exp'>,\n",
      "                           regressor=RandomForestRegressor(random_state=2023))\n",
      "[-44059.4931797  -45157.28037676 -39298.17763442 -39438.5162744\n",
      " -40012.16836401] TransformedTargetRegressor(func=<ufunc 'log'>, inverse_func=<ufunc 'exp'>,\n",
      "                           regressor=AdaBoostRegressor(random_state=2023))\n",
      "[-30586.64673613 -31208.76243877 -27688.77435126 -27413.86709207\n",
      " -28061.23960336] TransformedTargetRegressor(func=<ufunc 'log'>, inverse_func=<ufunc 'exp'>,\n",
      "                           regressor=AdaBoostRegressor(random_state=2023))\n",
      "[-0.80569815 -0.63093586 -1.10682634 -0.78651638 -0.55983753] TransformedTargetRegressor(func=<ufunc 'log'>, inverse_func=<ufunc 'exp'>,\n",
      "                           regressor=AdaBoostRegressor(random_state=2023))\n",
      "[-0.18573432 -0.25640274 -0.01463637 -0.0542823  -0.08912009] TransformedTargetRegressor(func=<ufunc 'log'>, inverse_func=<ufunc 'exp'>,\n",
      "                           regressor=AdaBoostRegressor(random_state=2023))\n",
      "[-29507.7620882  -29365.52989349 -26740.05366898 -25028.93861439\n",
      " -24380.47264932] TransformedTargetRegressor(func=<ufunc 'log'>, inverse_func=<ufunc 'exp'>,\n",
      "                           regressor=GradientBoostingRegressor(random_state=2023))\n",
      "[-19606.00822274 -18454.14291613 -17879.69555508 -16639.55244844\n",
      " -16307.15486788] TransformedTargetRegressor(func=<ufunc 'log'>, inverse_func=<ufunc 'exp'>,\n",
      "                           regressor=GradientBoostingRegressor(random_state=2023))\n",
      "[-1.09572388 -0.78664117 -1.44716977 -0.8437508  -0.58308718] TransformedTargetRegressor(func=<ufunc 'log'>, inverse_func=<ufunc 'exp'>,\n",
      "                           regressor=GradientBoostingRegressor(random_state=2023))\n",
      "[0.46816007 0.46868876 0.53022473 0.5753798  0.59563288] TransformedTargetRegressor(func=<ufunc 'log'>, inverse_func=<ufunc 'exp'>,\n",
      "                           regressor=GradientBoostingRegressor(random_state=2023))\n",
      "[-26505.60739572 -29222.99378822 -26071.90984086 -25535.3341333\n",
      " -24052.60085522] TransformedTargetRegressor(func=<ufunc 'log'>, inverse_func=<ufunc 'exp'>,\n",
      "                           regressor=XGBRegressor(base_score=None, booster=None,\n",
      "                                                  callbacks=None,\n",
      "                                                  colsample_bylevel=None,\n",
      "                                                  colsample_bynode=None,\n",
      "                                                  colsample_bytree=None,\n",
      "                                                  early_stopping_rounds=None,\n",
      "                                                  enable_categorical=False,\n",
      "                                                  eval_metric=None,\n",
      "                                                  feature_types=None,\n",
      "                                                  gamma=None, gpu_id=None,\n",
      "                                                  grow_policy=None,\n",
      "                                                  importance_type=None,\n",
      "                                                  interaction_constraints=None,\n",
      "                                                  learning_rate=None,\n",
      "                                                  max_bin=None,\n",
      "                                                  max_cat_threshold=None,\n",
      "                                                  max_cat_to_onehot=None,\n",
      "                                                  max_delta_step=None,\n",
      "                                                  max_depth=None,\n",
      "                                                  max_leaves=None,\n",
      "                                                  min_child_weight=None,\n",
      "                                                  missing=nan,\n",
      "                                                  monotone_constraints=None,\n",
      "                                                  n_estimators=100, n_jobs=None,\n",
      "                                                  num_parallel_tree=None,\n",
      "                                                  predictor=None,\n",
      "                                                  random_state=2023, ...))\n",
      "[-16656.62515471 -17752.43668291 -16186.22425683 -16125.90002912\n",
      " -15049.32367313] TransformedTargetRegressor(func=<ufunc 'log'>, inverse_func=<ufunc 'exp'>,\n",
      "                           regressor=XGBRegressor(base_score=None, booster=None,\n",
      "                                                  callbacks=None,\n",
      "                                                  colsample_bylevel=None,\n",
      "                                                  colsample_bynode=None,\n",
      "                                                  colsample_bytree=None,\n",
      "                                                  early_stopping_rounds=None,\n",
      "                                                  enable_categorical=False,\n",
      "                                                  eval_metric=None,\n",
      "                                                  feature_types=None,\n",
      "                                                  gamma=None, gpu_id=None,\n",
      "                                                  grow_policy=None,\n",
      "                                                  importance_type=None,\n",
      "                                                  interaction_constraints=None,\n",
      "                                                  learning_rate=None,\n",
      "                                                  max_bin=None,\n",
      "                                                  max_cat_threshold=None,\n",
      "                                                  max_cat_to_onehot=None,\n",
      "                                                  max_delta_step=None,\n",
      "                                                  max_depth=None,\n",
      "                                                  max_leaves=None,\n",
      "                                                  min_child_weight=None,\n",
      "                                                  missing=nan,\n",
      "                                                  monotone_constraints=None,\n",
      "                                                  n_estimators=100, n_jobs=None,\n",
      "                                                  num_parallel_tree=None,\n",
      "                                                  predictor=None,\n",
      "                                                  random_state=2023, ...))\n",
      "[-1.30275116 -0.83995962 -1.30365051 -0.76114475 -0.60521967] TransformedTargetRegressor(func=<ufunc 'log'>, inverse_func=<ufunc 'exp'>,\n",
      "                           regressor=XGBRegressor(base_score=None, booster=None,\n",
      "                                                  callbacks=None,\n",
      "                                                  colsample_bylevel=None,\n",
      "                                                  colsample_bynode=None,\n",
      "                                                  colsample_bytree=None,\n",
      "                                                  early_stopping_rounds=None,\n",
      "                                                  enable_categorical=False,\n",
      "                                                  eval_metric=None,\n",
      "                                                  feature_types=None,\n",
      "                                                  gamma=None, gpu_id=None,\n",
      "                                                  grow_policy=None,\n",
      "                                                  importance_type=None,\n",
      "                                                  interaction_constraints=None,\n",
      "                                                  learning_rate=None,\n",
      "                                                  max_bin=None,\n",
      "                                                  max_cat_threshold=None,\n",
      "                                                  max_cat_to_onehot=None,\n",
      "                                                  max_delta_step=None,\n",
      "                                                  max_depth=None,\n",
      "                                                  max_leaves=None,\n",
      "                                                  min_child_weight=None,\n",
      "                                                  missing=nan,\n",
      "                                                  monotone_constraints=None,\n",
      "                                                  n_estimators=100, n_jobs=None,\n",
      "                                                  num_parallel_tree=None,\n",
      "                                                  predictor=None,\n",
      "                                                  random_state=2023, ...))\n",
      "[0.5708749  0.47383406 0.55340764 0.55802381 0.60643571] TransformedTargetRegressor(func=<ufunc 'log'>, inverse_func=<ufunc 'exp'>,\n",
      "                           regressor=XGBRegressor(base_score=None, booster=None,\n",
      "                                                  callbacks=None,\n",
      "                                                  colsample_bylevel=None,\n",
      "                                                  colsample_bynode=None,\n",
      "                                                  colsample_bytree=None,\n",
      "                                                  early_stopping_rounds=None,\n",
      "                                                  enable_categorical=False,\n",
      "                                                  eval_metric=None,\n",
      "                                                  feature_types=None,\n",
      "                                                  gamma=None, gpu_id=None,\n",
      "                                                  grow_policy=None,\n",
      "                                                  importance_type=None,\n",
      "                                                  interaction_constraints=None,\n",
      "                                                  learning_rate=None,\n",
      "                                                  max_bin=None,\n",
      "                                                  max_cat_threshold=None,\n",
      "                                                  max_cat_to_onehot=None,\n",
      "                                                  max_delta_step=None,\n",
      "                                                  max_depth=None,\n",
      "                                                  max_leaves=None,\n",
      "                                                  min_child_weight=None,\n",
      "                                                  missing=nan,\n",
      "                                                  monotone_constraints=None,\n",
      "                                                  n_estimators=100, n_jobs=None,\n",
      "                                                  num_parallel_tree=None,\n",
      "                                                  predictor=None,\n",
      "                                                  random_state=2023, ...))\n"
     ]
    }
   ],
   "source": [
    "# Algoritma Yang Akan Digunakan\n",
    "LR = LinearRegression()\n",
    "KNN = KNeighborsRegressor()\n",
    "DT = DecisionTreeRegressor(random_state=2023)\n",
    "RF = RandomForestRegressor(random_state=2023)\n",
    "ADA = AdaBoostRegressor(random_state=2023)\n",
    "GB = GradientBoostingRegressor(random_state=2023)\n",
    "XGB = XGBRegressor(random_state=2023)\n",
    "\n",
    "log_LR = TransformedTargetRegressor(LR, func=np.log, inverse_func=np.exp)\n",
    "log_KNN = TransformedTargetRegressor(KNN, func=np.log, inverse_func=np.exp)\n",
    "log_DT = TransformedTargetRegressor(DT, func=np.log, inverse_func=np.exp)\n",
    "log_RF = TransformedTargetRegressor(RF, func=np.log, inverse_func=np.exp)\n",
    "log_ADA = TransformedTargetRegressor(ADA, func=np.log, inverse_func=np.exp)\n",
    "log_GB = TransformedTargetRegressor(GB, func=np.log, inverse_func=np.exp)\n",
    "log_XGB = TransformedTargetRegressor(XGB, func=np.log, inverse_func=np.exp)\n",
    "\n",
    "# Scaling Data\n",
    "scaler_data = StandardScaler()\n",
    "\n",
    "# Kandidat Algoritma\n",
    "models = [log_LR, log_KNN, log_DT, log_RF, log_ADA, log_GB, log_XGB]\n",
    "\n",
    "score_R2 = []\n",
    "\n",
    "score_RMSE = []\n",
    "mean_RMSE = []\n",
    "std_RMSE = []\n",
    "\n",
    "score_MAE = []\n",
    "mean_MAE = []\n",
    "std_MAE = []\n",
    "\n",
    "score_MAPE = []\n",
    "mean_MAPE = []\n",
    "std_MAPE = []\n",
    "\n",
    "# Mencari Algoritma Terbaik Berdasarkan Nilai MAE\n",
    "for i in models:\n",
    "    \n",
    "    crossval = KFold(n_splits=5, shuffle=True, random_state=2023)\n",
    "\n",
    "    estimator = Pipeline([\n",
    "        ('preprocessing', transformer),\n",
    "        ('scaler', scaler_data),\n",
    "        ('model', i)\n",
    "    ])\n",
    "\n",
    "    # RMSE\n",
    "    model_cv_RMSE = cross_val_score(\n",
    "        estimator, \n",
    "        X_train, \n",
    "        y_train, \n",
    "        cv=crossval, \n",
    "        scoring='neg_root_mean_squared_error', \n",
    "        error_score='raise'\n",
    "        )\n",
    "\n",
    "    print(model_cv_RMSE, i)\n",
    "\n",
    "    score_RMSE.append(model_cv_RMSE.mean())\n",
    "    mean_RMSE.append(model_cv_RMSE.mean())\n",
    "    std_RMSE.append(model_cv_RMSE.std())\n",
    "\n",
    "    # MAE\n",
    "    model_cv_MAE = cross_val_score(\n",
    "        estimator, \n",
    "        X_train, \n",
    "        y_train, \n",
    "        cv=crossval, \n",
    "        scoring='neg_mean_absolute_error', \n",
    "        error_score='raise'\n",
    "        )\n",
    "\n",
    "    print(model_cv_MAE, i)\n",
    "\n",
    "    score_MAE.append(model_cv_MAE.mean())\n",
    "    mean_MAE.append(model_cv_MAE.mean())\n",
    "    std_MAE.append(model_cv_MAE.std())\n",
    "\n",
    "    # MAPE\n",
    "    model_cv_MAPE = cross_val_score(\n",
    "        estimator, \n",
    "        X_train, \n",
    "        y_train, \n",
    "        cv=crossval, \n",
    "        scoring='neg_mean_absolute_percentage_error', \n",
    "        error_score='raise'\n",
    "        )\n",
    "\n",
    "    print(model_cv_MAPE, i)\n",
    "\n",
    "    score_MAPE.append(model_cv_MAPE.mean())\n",
    "    mean_MAPE.append(model_cv_MAPE.mean())\n",
    "    std_MAPE.append(model_cv_MAPE.std())\n",
    "\n",
    "    # R-square\n",
    "    R2_cv = cross_val_score(\n",
    "        estimator, \n",
    "        X_train, \n",
    "        y_train, \n",
    "        cv=crossval, \n",
    "        scoring=\"r2\", \n",
    "        error_score='raise')\n",
    "    \n",
    "    print(R2_cv, i)\n",
    "\n",
    "    score_R2.append(R2_cv.mean())"
   ]
  },
  {
   "cell_type": "code",
   "execution_count": 69,
   "metadata": {},
   "outputs": [
    {
     "data": {
      "text/html": [
       "<div>\n",
       "<style scoped>\n",
       "    .dataframe tbody tr th:only-of-type {\n",
       "        vertical-align: middle;\n",
       "    }\n",
       "\n",
       "    .dataframe tbody tr th {\n",
       "        vertical-align: top;\n",
       "    }\n",
       "\n",
       "    .dataframe thead th {\n",
       "        text-align: right;\n",
       "    }\n",
       "</style>\n",
       "<table border=\"1\" class=\"dataframe\">\n",
       "  <thead>\n",
       "    <tr style=\"text-align: right;\">\n",
       "      <th></th>\n",
       "      <th>Model</th>\n",
       "      <th>R-Square</th>\n",
       "      <th>RMSE</th>\n",
       "      <th>MAE</th>\n",
       "      <th>MAPE</th>\n",
       "    </tr>\n",
       "  </thead>\n",
       "  <tbody>\n",
       "    <tr>\n",
       "      <th>0</th>\n",
       "      <td>Linear Regression</td>\n",
       "      <td>0.401132</td>\n",
       "      <td>-30421.395296</td>\n",
       "      <td>-21452.971903</td>\n",
       "      <td>-1.115466</td>\n",
       "    </tr>\n",
       "    <tr>\n",
       "      <th>1</th>\n",
       "      <td>KNN Regressor</td>\n",
       "      <td>0.385283</td>\n",
       "      <td>-30784.493183</td>\n",
       "      <td>-21110.975083</td>\n",
       "      <td>-1.115550</td>\n",
       "    </tr>\n",
       "    <tr>\n",
       "      <th>2</th>\n",
       "      <td>DecisionTree Regressor</td>\n",
       "      <td>0.344690</td>\n",
       "      <td>-31784.364714</td>\n",
       "      <td>-19876.636729</td>\n",
       "      <td>-1.163805</td>\n",
       "    </tr>\n",
       "    <tr>\n",
       "      <th>3</th>\n",
       "      <td>RandomForest Regressor</td>\n",
       "      <td>0.584568</td>\n",
       "      <td>-25322.598707</td>\n",
       "      <td>-15849.195738</td>\n",
       "      <td>-0.990276</td>\n",
       "    </tr>\n",
       "    <tr>\n",
       "      <th>4</th>\n",
       "      <td>Ada Boost Regressor</td>\n",
       "      <td>-0.120035</td>\n",
       "      <td>-41593.127166</td>\n",
       "      <td>-28991.858044</td>\n",
       "      <td>-0.777963</td>\n",
       "    </tr>\n",
       "    <tr>\n",
       "      <th>5</th>\n",
       "      <td>Gradient Boosting Regressor</td>\n",
       "      <td>0.527617</td>\n",
       "      <td>-27004.551383</td>\n",
       "      <td>-17777.310802</td>\n",
       "      <td>-0.951275</td>\n",
       "    </tr>\n",
       "    <tr>\n",
       "      <th>6</th>\n",
       "      <td>XGBoost Regressor</td>\n",
       "      <td>0.552515</td>\n",
       "      <td>-26277.689203</td>\n",
       "      <td>-16354.101959</td>\n",
       "      <td>-0.962545</td>\n",
       "    </tr>\n",
       "  </tbody>\n",
       "</table>\n",
       "</div>"
      ],
      "text/plain": [
       "                         Model  R-Square          RMSE           MAE      MAPE\n",
       "0            Linear Regression  0.401132 -30421.395296 -21452.971903 -1.115466\n",
       "1                KNN Regressor  0.385283 -30784.493183 -21110.975083 -1.115550\n",
       "2       DecisionTree Regressor  0.344690 -31784.364714 -19876.636729 -1.163805\n",
       "3       RandomForest Regressor  0.584568 -25322.598707 -15849.195738 -0.990276\n",
       "4          Ada Boost Regressor -0.120035 -41593.127166 -28991.858044 -0.777963\n",
       "5  Gradient Boosting Regressor  0.527617 -27004.551383 -17777.310802 -0.951275\n",
       "6            XGBoost Regressor  0.552515 -26277.689203 -16354.101959 -0.962545"
      ]
     },
     "execution_count": 69,
     "metadata": {},
     "output_type": "execute_result"
    }
   ],
   "source": [
    "# Evaluasi Hasil Dari 7 Kandidat Algoritma Yang Digunakan\n",
    "pd.DataFrame({\n",
    "    'Model': ['Linear Regression', 'KNN Regressor', 'DecisionTree Regressor', 'RandomForest Regressor', 'Ada Boost Regressor', 'Gradient Boosting Regressor','XGBoost Regressor'],\n",
    "    'R-Square' : score_R2,\n",
    "    'RMSE': score_RMSE,\n",
    "    'MAE': score_MAE,\n",
    "    'MAPE': score_MAPE,\n",
    "})"
   ]
  },
  {
   "attachments": {},
   "cell_type": "markdown",
   "metadata": {},
   "source": [
    "- Berdasarkan perbandingan model di atas, RandomForest Regressor menghasilkan nilai R-square, RMSE, dan MAE yang sedikit lebih baik dibandingkan dengan XGBoost Regressor. Namun berdasarkan nilai MAPE, XGBoost Regressor memiliki nilai MAPE yang lebih baik dibandingkan dengan nilai dari RandomForest Regressor.\n",
    "- Oleh karena itu, maka akan dilakukan test set kembali menggunakan 2 model benchmark terbaik berdasarkan tabel perbandingan di atas, yaitu RandomForest Regressor dan XGBoost Regressor."
   ]
  },
  {
   "cell_type": "code",
   "execution_count": 70,
   "metadata": {},
   "outputs": [
    {
     "data": {
      "text/html": [
       "<div>\n",
       "<style scoped>\n",
       "    .dataframe tbody tr th:only-of-type {\n",
       "        vertical-align: middle;\n",
       "    }\n",
       "\n",
       "    .dataframe tbody tr th {\n",
       "        vertical-align: top;\n",
       "    }\n",
       "\n",
       "    .dataframe thead th {\n",
       "        text-align: right;\n",
       "    }\n",
       "</style>\n",
       "<table border=\"1\" class=\"dataframe\">\n",
       "  <thead>\n",
       "    <tr style=\"text-align: right;\">\n",
       "      <th></th>\n",
       "      <th>R-Square</th>\n",
       "      <th>RMSE</th>\n",
       "      <th>MAE</th>\n",
       "      <th>MAPE</th>\n",
       "    </tr>\n",
       "  </thead>\n",
       "  <tbody>\n",
       "    <tr>\n",
       "      <th>XGBoost Regressor</th>\n",
       "      <td>0.605058</td>\n",
       "      <td>24630.259371</td>\n",
       "      <td>15556.166456</td>\n",
       "      <td>1.045573</td>\n",
       "    </tr>\n",
       "    <tr>\n",
       "      <th>RandomForest Regressor</th>\n",
       "      <td>0.604564</td>\n",
       "      <td>24645.661253</td>\n",
       "      <td>15502.779629</td>\n",
       "      <td>1.048136</td>\n",
       "    </tr>\n",
       "  </tbody>\n",
       "</table>\n",
       "</div>"
      ],
      "text/plain": [
       "                        R-Square          RMSE           MAE      MAPE\n",
       "XGBoost Regressor       0.605058  24630.259371  15556.166456  1.045573\n",
       "RandomForest Regressor  0.604564  24645.661253  15502.779629  1.048136"
      ]
     },
     "execution_count": 70,
     "metadata": {},
     "output_type": "execute_result"
    }
   ],
   "source": [
    "# 2 Best Benchmark Models\n",
    "models = {\n",
    "    'XGBoost Regressor': XGBRegressor(random_state=2023),\n",
    "    'RandomForest Regressor': RandomForestRegressor(random_state=2023)\n",
    "}\n",
    "\n",
    "score_R2 = []\n",
    "score_rmse = []\n",
    "score_mae = []\n",
    "score_mape = []\n",
    "\n",
    "# TEST SET PREDICTION\n",
    "for i in models:\n",
    "    \n",
    "    model = Pipeline([\n",
    "        ('preprocessing', transformer),\n",
    "        ('scaler', scaler_data),\n",
    "        ('model', models[i])\n",
    "    ])\n",
    "\n",
    "    model.fit(X_train, y_train)\n",
    "    y_pred = model.predict(X_test)\n",
    "    score_R2.append(r2_score(y_test, y_pred))\n",
    "    score_rmse.append(np.sqrt(mean_squared_error(y_test, y_pred)))\n",
    "    score_mae.append(mean_absolute_error(y_test, y_pred))\n",
    "    score_mape.append(mean_absolute_percentage_error(y_test, y_pred))\n",
    "\n",
    "score_before_tuning = pd.DataFrame({'R-Square': score_R2, 'RMSE': score_rmse, 'MAE': score_mae, 'MAPE': score_mape}, index=models.keys())\n",
    "score_before_tuning"
   ]
  },
  {
   "attachments": {},
   "cell_type": "markdown",
   "metadata": {},
   "source": [
    "- Setelah dilakukan uji benchmark kepada 2 model terbaik, dapat terlihat bahwa nilai R-square, RMSE, dan MAPE pada model XGBoost Regressor lebih baik dibandingkan nilai dari model RandomForest Regressor.\n",
    "- Oleh sebab itu, maka diputuskan untuk menggunakan XGBoost Regressor sebagai model final. Tahap berikutnya akan dilakukan Hyperparameter Tuning pada model XGBoost."
   ]
  },
  {
   "attachments": {},
   "cell_type": "markdown",
   "metadata": {},
   "source": [
    "#### Hyperparameter Tuning\n",
    "\n",
    "Hyperparameter Tuning akan digunakan sebagai model akhir dengan harapan dapat memberikan peningkatan kinerja yang lebih baik dibandingkan dengan model sebelum dilakukan proses tuning."
   ]
  },
  {
   "cell_type": "code",
   "execution_count": 71,
   "metadata": {},
   "outputs": [],
   "source": [
    "# Tree Depth\n",
    "max_depth = list(np.arange(1, 11))\n",
    "\n",
    "# Learning Rate\n",
    "learning_rate = list(np.arange(1, 100)/100)\n",
    "\n",
    "# Tree Estimators\n",
    "n_estimators = list(np.arange(100, 201))\n",
    "\n",
    "# Tree Rows (Persentase (%) dari total baris train set)\n",
    "subsample = list(np.arange(2, 10)/10)\n",
    "\n",
    "# Gamma (min_impurity_decrease)\n",
    "gamma = list(np.arange(1, 11)) # Semakin besar nilainya, maka semakin sederhana modelnya\n",
    "\n",
    "# Tree Features (Persentase (%) dari total kolom train set)\n",
    "colsample_bytree = list(np.arange(1, 10)/10)\n",
    "\n",
    "# Alpha (regularization)\n",
    "reg_alpha = list(np.logspace(-3, 1, 10)) # Semakin besar nilainya, maka semakin sederhana modelnya\n",
    "\n",
    "\n",
    "# Hyperparam space untuk XGboost\n",
    "hyperparam_space_xgb = {\n",
    "    'model__max_depth': max_depth, \n",
    "    'model__learning_rate': learning_rate,\n",
    "    'model__n_estimators': n_estimators,\n",
    "    'model__subsample': subsample,\n",
    "    'model__gamma': gamma,\n",
    "    'model__colsample_bytree': colsample_bytree,\n",
    "    'model__reg_alpha': reg_alpha\n",
    "}"
   ]
  },
  {
   "cell_type": "code",
   "execution_count": 72,
   "metadata": {},
   "outputs": [],
   "source": [
    "# Model Dengan Hyperparameter Tuning\n",
    "xgb = XGBRegressor(random_state=2023, verbosity=0)\n",
    "\n",
    "# Membuat Rantai Algoritma\n",
    "estimator_xgb = Pipeline([\n",
    "        ('preprocessing', transformer),\n",
    "        ('scaler', scaler_data),\n",
    "        ('model', xgb)\n",
    "        ])\n",
    "\n",
    "crossval = KFold(n_splits=5, shuffle=True, random_state=2023)\n",
    "\n",
    "# Hyperparameter Tuning\n",
    "random_xgb = RandomizedSearchCV(\n",
    "    estimator_xgb, \n",
    "    param_distributions = hyperparam_space_xgb,\n",
    "    n_iter = 50,\n",
    "    cv = crossval, \n",
    "    scoring = ['neg_root_mean_squared_error', 'neg_mean_absolute_error', 'neg_mean_absolute_percentage_error'], \n",
    "    n_jobs = -1,\n",
    "    refit = 'neg_root_mean_squared_error',\n",
    "    random_state = 2023  \n",
    ")"
   ]
  },
  {
   "cell_type": "code",
   "execution_count": 73,
   "metadata": {},
   "outputs": [
    {
     "data": {
      "text/html": [
       "<style>#sk-container-id-1 {color: black;background-color: white;}#sk-container-id-1 pre{padding: 0;}#sk-container-id-1 div.sk-toggleable {background-color: white;}#sk-container-id-1 label.sk-toggleable__label {cursor: pointer;display: block;width: 100%;margin-bottom: 0;padding: 0.3em;box-sizing: border-box;text-align: center;}#sk-container-id-1 label.sk-toggleable__label-arrow:before {content: \"▸\";float: left;margin-right: 0.25em;color: #696969;}#sk-container-id-1 label.sk-toggleable__label-arrow:hover:before {color: black;}#sk-container-id-1 div.sk-estimator:hover label.sk-toggleable__label-arrow:before {color: black;}#sk-container-id-1 div.sk-toggleable__content {max-height: 0;max-width: 0;overflow: hidden;text-align: left;background-color: #f0f8ff;}#sk-container-id-1 div.sk-toggleable__content pre {margin: 0.2em;color: black;border-radius: 0.25em;background-color: #f0f8ff;}#sk-container-id-1 input.sk-toggleable__control:checked~div.sk-toggleable__content {max-height: 200px;max-width: 100%;overflow: auto;}#sk-container-id-1 input.sk-toggleable__control:checked~label.sk-toggleable__label-arrow:before {content: \"▾\";}#sk-container-id-1 div.sk-estimator input.sk-toggleable__control:checked~label.sk-toggleable__label {background-color: #d4ebff;}#sk-container-id-1 div.sk-label input.sk-toggleable__control:checked~label.sk-toggleable__label {background-color: #d4ebff;}#sk-container-id-1 input.sk-hidden--visually {border: 0;clip: rect(1px 1px 1px 1px);clip: rect(1px, 1px, 1px, 1px);height: 1px;margin: -1px;overflow: hidden;padding: 0;position: absolute;width: 1px;}#sk-container-id-1 div.sk-estimator {font-family: monospace;background-color: #f0f8ff;border: 1px dotted black;border-radius: 0.25em;box-sizing: border-box;margin-bottom: 0.5em;}#sk-container-id-1 div.sk-estimator:hover {background-color: #d4ebff;}#sk-container-id-1 div.sk-parallel-item::after {content: \"\";width: 100%;border-bottom: 1px solid gray;flex-grow: 1;}#sk-container-id-1 div.sk-label:hover label.sk-toggleable__label {background-color: #d4ebff;}#sk-container-id-1 div.sk-serial::before {content: \"\";position: absolute;border-left: 1px solid gray;box-sizing: border-box;top: 0;bottom: 0;left: 50%;z-index: 0;}#sk-container-id-1 div.sk-serial {display: flex;flex-direction: column;align-items: center;background-color: white;padding-right: 0.2em;padding-left: 0.2em;position: relative;}#sk-container-id-1 div.sk-item {position: relative;z-index: 1;}#sk-container-id-1 div.sk-parallel {display: flex;align-items: stretch;justify-content: center;background-color: white;position: relative;}#sk-container-id-1 div.sk-item::before, #sk-container-id-1 div.sk-parallel-item::before {content: \"\";position: absolute;border-left: 1px solid gray;box-sizing: border-box;top: 0;bottom: 0;left: 50%;z-index: -1;}#sk-container-id-1 div.sk-parallel-item {display: flex;flex-direction: column;z-index: 1;position: relative;background-color: white;}#sk-container-id-1 div.sk-parallel-item:first-child::after {align-self: flex-end;width: 50%;}#sk-container-id-1 div.sk-parallel-item:last-child::after {align-self: flex-start;width: 50%;}#sk-container-id-1 div.sk-parallel-item:only-child::after {width: 0;}#sk-container-id-1 div.sk-dashed-wrapped {border: 1px dashed gray;margin: 0 0.4em 0.5em 0.4em;box-sizing: border-box;padding-bottom: 0.4em;background-color: white;}#sk-container-id-1 div.sk-label label {font-family: monospace;font-weight: bold;display: inline-block;line-height: 1.2em;}#sk-container-id-1 div.sk-label-container {text-align: center;}#sk-container-id-1 div.sk-container {/* jupyter's `normalize.less` sets `[hidden] { display: none; }` but bootstrap.min.css set `[hidden] { display: none !important; }` so we also need the `!important` here to be able to override the default hidden behavior on the sphinx rendered scikit-learn.org. See: https://github.com/scikit-learn/scikit-learn/issues/21755 */display: inline-block !important;position: relative;}#sk-container-id-1 div.sk-text-repr-fallback {display: none;}</style><div id=\"sk-container-id-1\" class=\"sk-top-container\"><div class=\"sk-text-repr-fallback\"><pre>RandomizedSearchCV(cv=KFold(n_splits=5, random_state=2023, shuffle=True),\n",
       "                   estimator=Pipeline(steps=[(&#x27;preprocessing&#x27;,\n",
       "                                              ColumnTransformer(remainder=&#x27;passthrough&#x27;,\n",
       "                                                                transformers=[(&#x27;One &#x27;\n",
       "                                                                               &#x27;Hot&#x27;,\n",
       "                                                                               OneHotEncoder(drop=&#x27;first&#x27;,\n",
       "                                                                                             handle_unknown=&#x27;ignore&#x27;),\n",
       "                                                                               [&#x27;Region&#x27;,\n",
       "                                                                                &#x27;Gear_Type&#x27;]),\n",
       "                                                                              (&#x27;Ordinal&#x27;,\n",
       "                                                                               OrdinalEncoder(cols=&#x27;Options&#x27;,\n",
       "                                                                                              mapping=[{&#x27;col&#x27;: &#x27;Options&#x27;,\n",
       "                                                                                                        &#x27;data_type&#x27;: dtype(&#x27;O&#x27;),\n",
       "                                                                                                        &#x27;m...\n",
       "                                                             0.007742636826811269,\n",
       "                                                             0.021544346900318832,\n",
       "                                                             0.05994842503189409,\n",
       "                                                             0.1668100537200059,\n",
       "                                                             0.46415888336127775,\n",
       "                                                             1.2915496650148828,\n",
       "                                                             3.593813663804626,\n",
       "                                                             10.0],\n",
       "                                        &#x27;model__subsample&#x27;: [0.2, 0.3, 0.4, 0.5,\n",
       "                                                             0.6, 0.7, 0.8,\n",
       "                                                             0.9]},\n",
       "                   random_state=2023, refit=&#x27;neg_root_mean_squared_error&#x27;,\n",
       "                   scoring=[&#x27;neg_root_mean_squared_error&#x27;,\n",
       "                            &#x27;neg_mean_absolute_error&#x27;,\n",
       "                            &#x27;neg_mean_absolute_percentage_error&#x27;])</pre><b>In a Jupyter environment, please rerun this cell to show the HTML representation or trust the notebook. <br />On GitHub, the HTML representation is unable to render, please try loading this page with nbviewer.org.</b></div><div class=\"sk-container\" hidden><div class=\"sk-item sk-dashed-wrapped\"><div class=\"sk-label-container\"><div class=\"sk-label sk-toggleable\"><input class=\"sk-toggleable__control sk-hidden--visually\" id=\"sk-estimator-id-1\" type=\"checkbox\" ><label for=\"sk-estimator-id-1\" class=\"sk-toggleable__label sk-toggleable__label-arrow\">RandomizedSearchCV</label><div class=\"sk-toggleable__content\"><pre>RandomizedSearchCV(cv=KFold(n_splits=5, random_state=2023, shuffle=True),\n",
       "                   estimator=Pipeline(steps=[(&#x27;preprocessing&#x27;,\n",
       "                                              ColumnTransformer(remainder=&#x27;passthrough&#x27;,\n",
       "                                                                transformers=[(&#x27;One &#x27;\n",
       "                                                                               &#x27;Hot&#x27;,\n",
       "                                                                               OneHotEncoder(drop=&#x27;first&#x27;,\n",
       "                                                                                             handle_unknown=&#x27;ignore&#x27;),\n",
       "                                                                               [&#x27;Region&#x27;,\n",
       "                                                                                &#x27;Gear_Type&#x27;]),\n",
       "                                                                              (&#x27;Ordinal&#x27;,\n",
       "                                                                               OrdinalEncoder(cols=&#x27;Options&#x27;,\n",
       "                                                                                              mapping=[{&#x27;col&#x27;: &#x27;Options&#x27;,\n",
       "                                                                                                        &#x27;data_type&#x27;: dtype(&#x27;O&#x27;),\n",
       "                                                                                                        &#x27;m...\n",
       "                                                             0.007742636826811269,\n",
       "                                                             0.021544346900318832,\n",
       "                                                             0.05994842503189409,\n",
       "                                                             0.1668100537200059,\n",
       "                                                             0.46415888336127775,\n",
       "                                                             1.2915496650148828,\n",
       "                                                             3.593813663804626,\n",
       "                                                             10.0],\n",
       "                                        &#x27;model__subsample&#x27;: [0.2, 0.3, 0.4, 0.5,\n",
       "                                                             0.6, 0.7, 0.8,\n",
       "                                                             0.9]},\n",
       "                   random_state=2023, refit=&#x27;neg_root_mean_squared_error&#x27;,\n",
       "                   scoring=[&#x27;neg_root_mean_squared_error&#x27;,\n",
       "                            &#x27;neg_mean_absolute_error&#x27;,\n",
       "                            &#x27;neg_mean_absolute_percentage_error&#x27;])</pre></div></div></div><div class=\"sk-parallel\"><div class=\"sk-parallel-item\"><div class=\"sk-item\"><div class=\"sk-label-container\"><div class=\"sk-label sk-toggleable\"><input class=\"sk-toggleable__control sk-hidden--visually\" id=\"sk-estimator-id-2\" type=\"checkbox\" ><label for=\"sk-estimator-id-2\" class=\"sk-toggleable__label sk-toggleable__label-arrow\">estimator: Pipeline</label><div class=\"sk-toggleable__content\"><pre>Pipeline(steps=[(&#x27;preprocessing&#x27;,\n",
       "                 ColumnTransformer(remainder=&#x27;passthrough&#x27;,\n",
       "                                   transformers=[(&#x27;One Hot&#x27;,\n",
       "                                                  OneHotEncoder(drop=&#x27;first&#x27;,\n",
       "                                                                handle_unknown=&#x27;ignore&#x27;),\n",
       "                                                  [&#x27;Region&#x27;, &#x27;Gear_Type&#x27;]),\n",
       "                                                 (&#x27;Ordinal&#x27;,\n",
       "                                                  OrdinalEncoder(cols=&#x27;Options&#x27;,\n",
       "                                                                 mapping=[{&#x27;col&#x27;: &#x27;Options&#x27;,\n",
       "                                                                           &#x27;data_type&#x27;: dtype(&#x27;O&#x27;),\n",
       "                                                                           &#x27;mapping&#x27;: None         0\n",
       "Standard     1\n",
       "Semi Full    2\n",
       "Full         3\n",
       "dtype: int64}]),\n",
       "                                                  [&#x27;Options&#x27;]),\n",
       "                                                 (&#x27;Binary&#x27;, BinaryEnc...\n",
       "                              feature_types=None, gamma=None, gpu_id=None,\n",
       "                              grow_policy=None, importance_type=None,\n",
       "                              interaction_constraints=None, learning_rate=None,\n",
       "                              max_bin=None, max_cat_threshold=None,\n",
       "                              max_cat_to_onehot=None, max_delta_step=None,\n",
       "                              max_depth=None, max_leaves=None,\n",
       "                              min_child_weight=None, missing=nan,\n",
       "                              monotone_constraints=None, n_estimators=100,\n",
       "                              n_jobs=None, num_parallel_tree=None,\n",
       "                              predictor=None, random_state=2023, ...))])</pre></div></div></div><div class=\"sk-serial\"><div class=\"sk-item\"><div class=\"sk-serial\"><div class=\"sk-item sk-dashed-wrapped\"><div class=\"sk-label-container\"><div class=\"sk-label sk-toggleable\"><input class=\"sk-toggleable__control sk-hidden--visually\" id=\"sk-estimator-id-3\" type=\"checkbox\" ><label for=\"sk-estimator-id-3\" class=\"sk-toggleable__label sk-toggleable__label-arrow\">preprocessing: ColumnTransformer</label><div class=\"sk-toggleable__content\"><pre>ColumnTransformer(remainder=&#x27;passthrough&#x27;,\n",
       "                  transformers=[(&#x27;One Hot&#x27;,\n",
       "                                 OneHotEncoder(drop=&#x27;first&#x27;,\n",
       "                                               handle_unknown=&#x27;ignore&#x27;),\n",
       "                                 [&#x27;Region&#x27;, &#x27;Gear_Type&#x27;]),\n",
       "                                (&#x27;Ordinal&#x27;,\n",
       "                                 OrdinalEncoder(cols=&#x27;Options&#x27;,\n",
       "                                                mapping=[{&#x27;col&#x27;: &#x27;Options&#x27;,\n",
       "                                                          &#x27;data_type&#x27;: dtype(&#x27;O&#x27;),\n",
       "                                                          &#x27;mapping&#x27;: None         0\n",
       "Standard     1\n",
       "Semi Full    2\n",
       "Full         3\n",
       "dtype: int64}]),\n",
       "                                 [&#x27;Options&#x27;]),\n",
       "                                (&#x27;Binary&#x27;, BinaryEncoder(), [&#x27;Type&#x27;])])</pre></div></div></div><div class=\"sk-parallel\"><div class=\"sk-parallel-item\"><div class=\"sk-item\"><div class=\"sk-label-container\"><div class=\"sk-label sk-toggleable\"><input class=\"sk-toggleable__control sk-hidden--visually\" id=\"sk-estimator-id-4\" type=\"checkbox\" ><label for=\"sk-estimator-id-4\" class=\"sk-toggleable__label sk-toggleable__label-arrow\">One Hot</label><div class=\"sk-toggleable__content\"><pre>[&#x27;Region&#x27;, &#x27;Gear_Type&#x27;]</pre></div></div></div><div class=\"sk-serial\"><div class=\"sk-item\"><div class=\"sk-estimator sk-toggleable\"><input class=\"sk-toggleable__control sk-hidden--visually\" id=\"sk-estimator-id-5\" type=\"checkbox\" ><label for=\"sk-estimator-id-5\" class=\"sk-toggleable__label sk-toggleable__label-arrow\">OneHotEncoder</label><div class=\"sk-toggleable__content\"><pre>OneHotEncoder(drop=&#x27;first&#x27;, handle_unknown=&#x27;ignore&#x27;)</pre></div></div></div></div></div></div><div class=\"sk-parallel-item\"><div class=\"sk-item\"><div class=\"sk-label-container\"><div class=\"sk-label sk-toggleable\"><input class=\"sk-toggleable__control sk-hidden--visually\" id=\"sk-estimator-id-6\" type=\"checkbox\" ><label for=\"sk-estimator-id-6\" class=\"sk-toggleable__label sk-toggleable__label-arrow\">Ordinal</label><div class=\"sk-toggleable__content\"><pre>[&#x27;Options&#x27;]</pre></div></div></div><div class=\"sk-serial\"><div class=\"sk-item\"><div class=\"sk-estimator sk-toggleable\"><input class=\"sk-toggleable__control sk-hidden--visually\" id=\"sk-estimator-id-7\" type=\"checkbox\" ><label for=\"sk-estimator-id-7\" class=\"sk-toggleable__label sk-toggleable__label-arrow\">OrdinalEncoder</label><div class=\"sk-toggleable__content\"><pre>OrdinalEncoder(cols=&#x27;Options&#x27;,\n",
       "               mapping=[{&#x27;col&#x27;: &#x27;Options&#x27;, &#x27;data_type&#x27;: dtype(&#x27;O&#x27;),\n",
       "                         &#x27;mapping&#x27;: None         0\n",
       "Standard     1\n",
       "Semi Full    2\n",
       "Full         3\n",
       "dtype: int64}])</pre></div></div></div></div></div></div><div class=\"sk-parallel-item\"><div class=\"sk-item\"><div class=\"sk-label-container\"><div class=\"sk-label sk-toggleable\"><input class=\"sk-toggleable__control sk-hidden--visually\" id=\"sk-estimator-id-8\" type=\"checkbox\" ><label for=\"sk-estimator-id-8\" class=\"sk-toggleable__label sk-toggleable__label-arrow\">Binary</label><div class=\"sk-toggleable__content\"><pre>[&#x27;Type&#x27;]</pre></div></div></div><div class=\"sk-serial\"><div class=\"sk-item\"><div class=\"sk-estimator sk-toggleable\"><input class=\"sk-toggleable__control sk-hidden--visually\" id=\"sk-estimator-id-9\" type=\"checkbox\" ><label for=\"sk-estimator-id-9\" class=\"sk-toggleable__label sk-toggleable__label-arrow\">BinaryEncoder</label><div class=\"sk-toggleable__content\"><pre>BinaryEncoder()</pre></div></div></div></div></div></div><div class=\"sk-parallel-item\"><div class=\"sk-item\"><div class=\"sk-label-container\"><div class=\"sk-label sk-toggleable\"><input class=\"sk-toggleable__control sk-hidden--visually\" id=\"sk-estimator-id-10\" type=\"checkbox\" ><label for=\"sk-estimator-id-10\" class=\"sk-toggleable__label sk-toggleable__label-arrow\">remainder</label><div class=\"sk-toggleable__content\"><pre>[&#x27;Year&#x27;, &#x27;Engine_Size&#x27;, &#x27;Mileage&#x27;]</pre></div></div></div><div class=\"sk-serial\"><div class=\"sk-item\"><div class=\"sk-estimator sk-toggleable\"><input class=\"sk-toggleable__control sk-hidden--visually\" id=\"sk-estimator-id-11\" type=\"checkbox\" ><label for=\"sk-estimator-id-11\" class=\"sk-toggleable__label sk-toggleable__label-arrow\">passthrough</label><div class=\"sk-toggleable__content\"><pre>passthrough</pre></div></div></div></div></div></div></div></div><div class=\"sk-item\"><div class=\"sk-estimator sk-toggleable\"><input class=\"sk-toggleable__control sk-hidden--visually\" id=\"sk-estimator-id-12\" type=\"checkbox\" ><label for=\"sk-estimator-id-12\" class=\"sk-toggleable__label sk-toggleable__label-arrow\">StandardScaler</label><div class=\"sk-toggleable__content\"><pre>StandardScaler()</pre></div></div></div><div class=\"sk-item\"><div class=\"sk-estimator sk-toggleable\"><input class=\"sk-toggleable__control sk-hidden--visually\" id=\"sk-estimator-id-13\" type=\"checkbox\" ><label for=\"sk-estimator-id-13\" class=\"sk-toggleable__label sk-toggleable__label-arrow\">XGBRegressor</label><div class=\"sk-toggleable__content\"><pre>XGBRegressor(base_score=None, booster=None, callbacks=None,\n",
       "             colsample_bylevel=None, colsample_bynode=None,\n",
       "             colsample_bytree=None, early_stopping_rounds=None,\n",
       "             enable_categorical=False, eval_metric=None, feature_types=None,\n",
       "             gamma=None, gpu_id=None, grow_policy=None, importance_type=None,\n",
       "             interaction_constraints=None, learning_rate=None, max_bin=None,\n",
       "             max_cat_threshold=None, max_cat_to_onehot=None,\n",
       "             max_delta_step=None, max_depth=None, max_leaves=None,\n",
       "             min_child_weight=None, missing=nan, monotone_constraints=None,\n",
       "             n_estimators=100, n_jobs=None, num_parallel_tree=None,\n",
       "             predictor=None, random_state=2023, ...)</pre></div></div></div></div></div></div></div></div></div></div></div></div>"
      ],
      "text/plain": [
       "RandomizedSearchCV(cv=KFold(n_splits=5, random_state=2023, shuffle=True),\n",
       "                   estimator=Pipeline(steps=[('preprocessing',\n",
       "                                              ColumnTransformer(remainder='passthrough',\n",
       "                                                                transformers=[('One '\n",
       "                                                                               'Hot',\n",
       "                                                                               OneHotEncoder(drop='first',\n",
       "                                                                                             handle_unknown='ignore'),\n",
       "                                                                               ['Region',\n",
       "                                                                                'Gear_Type']),\n",
       "                                                                              ('Ordinal',\n",
       "                                                                               OrdinalEncoder(cols='Options',\n",
       "                                                                                              mapping=[{'col': 'Options',\n",
       "                                                                                                        'data_type': dtype('O'),\n",
       "                                                                                                        'm...\n",
       "                                                             0.007742636826811269,\n",
       "                                                             0.021544346900318832,\n",
       "                                                             0.05994842503189409,\n",
       "                                                             0.1668100537200059,\n",
       "                                                             0.46415888336127775,\n",
       "                                                             1.2915496650148828,\n",
       "                                                             3.593813663804626,\n",
       "                                                             10.0],\n",
       "                                        'model__subsample': [0.2, 0.3, 0.4, 0.5,\n",
       "                                                             0.6, 0.7, 0.8,\n",
       "                                                             0.9]},\n",
       "                   random_state=2023, refit='neg_root_mean_squared_error',\n",
       "                   scoring=['neg_root_mean_squared_error',\n",
       "                            'neg_mean_absolute_error',\n",
       "                            'neg_mean_absolute_percentage_error'])"
      ]
     },
     "execution_count": 73,
     "metadata": {},
     "output_type": "execute_result"
    }
   ],
   "source": [
    "# Fitting Data Training Untuk Mencari Parameter Terbaik\n",
    "random_xgb.fit(X_train, y_train)"
   ]
  },
  {
   "cell_type": "code",
   "execution_count": 74,
   "metadata": {},
   "outputs": [
    {
     "data": {
      "text/html": [
       "<div>\n",
       "<style scoped>\n",
       "    .dataframe tbody tr th:only-of-type {\n",
       "        vertical-align: middle;\n",
       "    }\n",
       "\n",
       "    .dataframe tbody tr th {\n",
       "        vertical-align: top;\n",
       "    }\n",
       "\n",
       "    .dataframe thead th {\n",
       "        text-align: right;\n",
       "    }\n",
       "</style>\n",
       "<table border=\"1\" class=\"dataframe\">\n",
       "  <thead>\n",
       "    <tr style=\"text-align: right;\">\n",
       "      <th></th>\n",
       "      <th>mean_fit_time</th>\n",
       "      <th>std_fit_time</th>\n",
       "      <th>mean_score_time</th>\n",
       "      <th>std_score_time</th>\n",
       "      <th>param_model__subsample</th>\n",
       "      <th>param_model__reg_alpha</th>\n",
       "      <th>param_model__n_estimators</th>\n",
       "      <th>param_model__max_depth</th>\n",
       "      <th>param_model__learning_rate</th>\n",
       "      <th>param_model__gamma</th>\n",
       "      <th>...</th>\n",
       "      <th>std_test_neg_mean_absolute_error</th>\n",
       "      <th>rank_test_neg_mean_absolute_error</th>\n",
       "      <th>split0_test_neg_mean_absolute_percentage_error</th>\n",
       "      <th>split1_test_neg_mean_absolute_percentage_error</th>\n",
       "      <th>split2_test_neg_mean_absolute_percentage_error</th>\n",
       "      <th>split3_test_neg_mean_absolute_percentage_error</th>\n",
       "      <th>split4_test_neg_mean_absolute_percentage_error</th>\n",
       "      <th>mean_test_neg_mean_absolute_percentage_error</th>\n",
       "      <th>std_test_neg_mean_absolute_percentage_error</th>\n",
       "      <th>rank_test_neg_mean_absolute_percentage_error</th>\n",
       "    </tr>\n",
       "  </thead>\n",
       "  <tbody>\n",
       "    <tr>\n",
       "      <th>13</th>\n",
       "      <td>1.262726</td>\n",
       "      <td>0.010058</td>\n",
       "      <td>0.015673</td>\n",
       "      <td>0.000936</td>\n",
       "      <td>0.7</td>\n",
       "      <td>0.059948</td>\n",
       "      <td>144</td>\n",
       "      <td>9</td>\n",
       "      <td>0.06</td>\n",
       "      <td>7</td>\n",
       "      <td>...</td>\n",
       "      <td>940.579599</td>\n",
       "      <td>1</td>\n",
       "      <td>-1.315619</td>\n",
       "      <td>-0.997080</td>\n",
       "      <td>-1.828965</td>\n",
       "      <td>-0.976673</td>\n",
       "      <td>-0.648982</td>\n",
       "      <td>-1.153464</td>\n",
       "      <td>0.398198</td>\n",
       "      <td>2</td>\n",
       "    </tr>\n",
       "    <tr>\n",
       "      <th>34</th>\n",
       "      <td>0.889229</td>\n",
       "      <td>0.013282</td>\n",
       "      <td>0.015253</td>\n",
       "      <td>0.002291</td>\n",
       "      <td>0.8</td>\n",
       "      <td>0.464159</td>\n",
       "      <td>173</td>\n",
       "      <td>7</td>\n",
       "      <td>0.16</td>\n",
       "      <td>5</td>\n",
       "      <td>...</td>\n",
       "      <td>884.310171</td>\n",
       "      <td>2</td>\n",
       "      <td>-1.430469</td>\n",
       "      <td>-0.995149</td>\n",
       "      <td>-1.736370</td>\n",
       "      <td>-0.933404</td>\n",
       "      <td>-0.701404</td>\n",
       "      <td>-1.159359</td>\n",
       "      <td>0.372608</td>\n",
       "      <td>3</td>\n",
       "    </tr>\n",
       "    <tr>\n",
       "      <th>17</th>\n",
       "      <td>0.890813</td>\n",
       "      <td>0.013896</td>\n",
       "      <td>0.014306</td>\n",
       "      <td>0.001481</td>\n",
       "      <td>0.8</td>\n",
       "      <td>0.021544</td>\n",
       "      <td>145</td>\n",
       "      <td>7</td>\n",
       "      <td>0.17</td>\n",
       "      <td>2</td>\n",
       "      <td>...</td>\n",
       "      <td>885.287430</td>\n",
       "      <td>3</td>\n",
       "      <td>-1.292401</td>\n",
       "      <td>-0.971184</td>\n",
       "      <td>-1.874086</td>\n",
       "      <td>-1.025149</td>\n",
       "      <td>-0.710266</td>\n",
       "      <td>-1.174617</td>\n",
       "      <td>0.395595</td>\n",
       "      <td>6</td>\n",
       "    </tr>\n",
       "    <tr>\n",
       "      <th>45</th>\n",
       "      <td>0.580160</td>\n",
       "      <td>0.012199</td>\n",
       "      <td>0.011071</td>\n",
       "      <td>0.001679</td>\n",
       "      <td>0.7</td>\n",
       "      <td>0.16681</td>\n",
       "      <td>176</td>\n",
       "      <td>5</td>\n",
       "      <td>0.1</td>\n",
       "      <td>3</td>\n",
       "      <td>...</td>\n",
       "      <td>1017.934045</td>\n",
       "      <td>5</td>\n",
       "      <td>-1.378899</td>\n",
       "      <td>-0.973419</td>\n",
       "      <td>-1.902195</td>\n",
       "      <td>-0.946020</td>\n",
       "      <td>-0.738681</td>\n",
       "      <td>-1.187843</td>\n",
       "      <td>0.413038</td>\n",
       "      <td>7</td>\n",
       "    </tr>\n",
       "    <tr>\n",
       "      <th>14</th>\n",
       "      <td>1.082289</td>\n",
       "      <td>0.027000</td>\n",
       "      <td>0.015779</td>\n",
       "      <td>0.001831</td>\n",
       "      <td>0.4</td>\n",
       "      <td>0.059948</td>\n",
       "      <td>166</td>\n",
       "      <td>8</td>\n",
       "      <td>0.11</td>\n",
       "      <td>3</td>\n",
       "      <td>...</td>\n",
       "      <td>866.103025</td>\n",
       "      <td>4</td>\n",
       "      <td>-1.335840</td>\n",
       "      <td>-0.973294</td>\n",
       "      <td>-1.794018</td>\n",
       "      <td>-0.990737</td>\n",
       "      <td>-0.716411</td>\n",
       "      <td>-1.162060</td>\n",
       "      <td>0.372333</td>\n",
       "      <td>4</td>\n",
       "    </tr>\n",
       "  </tbody>\n",
       "</table>\n",
       "<p>5 rows × 36 columns</p>\n",
       "</div>"
      ],
      "text/plain": [
       "    mean_fit_time  std_fit_time  mean_score_time  std_score_time  \\\n",
       "13       1.262726      0.010058         0.015673        0.000936   \n",
       "34       0.889229      0.013282         0.015253        0.002291   \n",
       "17       0.890813      0.013896         0.014306        0.001481   \n",
       "45       0.580160      0.012199         0.011071        0.001679   \n",
       "14       1.082289      0.027000         0.015779        0.001831   \n",
       "\n",
       "   param_model__subsample param_model__reg_alpha param_model__n_estimators  \\\n",
       "13                    0.7               0.059948                       144   \n",
       "34                    0.8               0.464159                       173   \n",
       "17                    0.8               0.021544                       145   \n",
       "45                    0.7                0.16681                       176   \n",
       "14                    0.4               0.059948                       166   \n",
       "\n",
       "   param_model__max_depth param_model__learning_rate param_model__gamma  ...  \\\n",
       "13                      9                       0.06                  7  ...   \n",
       "34                      7                       0.16                  5  ...   \n",
       "17                      7                       0.17                  2  ...   \n",
       "45                      5                        0.1                  3  ...   \n",
       "14                      8                       0.11                  3  ...   \n",
       "\n",
       "   std_test_neg_mean_absolute_error rank_test_neg_mean_absolute_error  \\\n",
       "13                       940.579599                                 1   \n",
       "34                       884.310171                                 2   \n",
       "17                       885.287430                                 3   \n",
       "45                      1017.934045                                 5   \n",
       "14                       866.103025                                 4   \n",
       "\n",
       "    split0_test_neg_mean_absolute_percentage_error  \\\n",
       "13                                       -1.315619   \n",
       "34                                       -1.430469   \n",
       "17                                       -1.292401   \n",
       "45                                       -1.378899   \n",
       "14                                       -1.335840   \n",
       "\n",
       "    split1_test_neg_mean_absolute_percentage_error  \\\n",
       "13                                       -0.997080   \n",
       "34                                       -0.995149   \n",
       "17                                       -0.971184   \n",
       "45                                       -0.973419   \n",
       "14                                       -0.973294   \n",
       "\n",
       "    split2_test_neg_mean_absolute_percentage_error  \\\n",
       "13                                       -1.828965   \n",
       "34                                       -1.736370   \n",
       "17                                       -1.874086   \n",
       "45                                       -1.902195   \n",
       "14                                       -1.794018   \n",
       "\n",
       "    split3_test_neg_mean_absolute_percentage_error  \\\n",
       "13                                       -0.976673   \n",
       "34                                       -0.933404   \n",
       "17                                       -1.025149   \n",
       "45                                       -0.946020   \n",
       "14                                       -0.990737   \n",
       "\n",
       "    split4_test_neg_mean_absolute_percentage_error  \\\n",
       "13                                       -0.648982   \n",
       "34                                       -0.701404   \n",
       "17                                       -0.710266   \n",
       "45                                       -0.738681   \n",
       "14                                       -0.716411   \n",
       "\n",
       "    mean_test_neg_mean_absolute_percentage_error  \\\n",
       "13                                     -1.153464   \n",
       "34                                     -1.159359   \n",
       "17                                     -1.174617   \n",
       "45                                     -1.187843   \n",
       "14                                     -1.162060   \n",
       "\n",
       "    std_test_neg_mean_absolute_percentage_error  \\\n",
       "13                                     0.398198   \n",
       "34                                     0.372608   \n",
       "17                                     0.395595   \n",
       "45                                     0.413038   \n",
       "14                                     0.372333   \n",
       "\n",
       "    rank_test_neg_mean_absolute_percentage_error  \n",
       "13                                             2  \n",
       "34                                             3  \n",
       "17                                             6  \n",
       "45                                             7  \n",
       "14                                             4  \n",
       "\n",
       "[5 rows x 36 columns]"
      ]
     },
     "execution_count": 74,
     "metadata": {},
     "output_type": "execute_result"
    }
   ],
   "source": [
    "# Menamplikan Hasil Tuning ke Dalam Dataframe. Diurutkan Berdasarkan RMSE, MAE & MAPE\n",
    "pd.DataFrame(random_xgb.cv_results_).sort_values(by=['rank_test_neg_root_mean_squared_error', 'rank_test_neg_mean_absolute_error', 'rank_test_neg_mean_absolute_percentage_error']).head()"
   ]
  },
  {
   "cell_type": "code",
   "execution_count": 75,
   "metadata": {},
   "outputs": [
    {
     "name": "stdout",
     "output_type": "stream",
     "text": [
      "XGBoost Regressor\n",
      "Best XGB Score : -21627.93360879928\n",
      "Best XGB Params : {'model__subsample': 0.7, 'model__reg_alpha': 0.05994842503189409, 'model__n_estimators': 144, 'model__max_depth': 9, 'model__learning_rate': 0.06, 'model__gamma': 7, 'model__colsample_bytree': 0.9}\n"
     ]
    }
   ],
   "source": [
    "# Memeriksa Nilai Skor dan Params Terbaik\n",
    "print('XGBoost Regressor')\n",
    "print('Best XGB Score :', random_xgb.best_score_)\n",
    "print('Best XGB Params :', random_xgb.best_params_)"
   ]
  },
  {
   "attachments": {},
   "cell_type": "markdown",
   "metadata": {},
   "source": [
    "#### Prediksi Test Set dengan Tuned Model"
   ]
  },
  {
   "cell_type": "code",
   "execution_count": 76,
   "metadata": {},
   "outputs": [],
   "source": [
    "# Model XGBoost\n",
    "model = {'XGBoost Regressor': XGBRegressor(random_state=2023)}\n",
    "\n",
    "# Define model terhadap estimator terbaik\n",
    "xgb_tuning = random_xgb.best_estimator_\n",
    "\n",
    "# Fitting model\n",
    "xgb_tuning.fit(X_train, y_train)\n",
    "\n",
    "# Predict test set\n",
    "y_pred_xgb_tuning = xgb_tuning.predict(X_test)\n",
    "\n",
    "# Simpan nilai metrics R2, RMSE, MAE & MAPE setelah tuning\n",
    "Rsquare_xgb_tuning = r2_score(y_test, y_pred_xgb_tuning)\n",
    "rmse_xgb_tuning = np.sqrt(mean_squared_error(y_test, y_pred_xgb_tuning))\n",
    "mae_xgb_tuning = mean_absolute_error(y_test, y_pred_xgb_tuning)\n",
    "mape_xgb_tuning = mean_absolute_percentage_error(y_test, y_pred_xgb_tuning)\n",
    "\n",
    "score_after_tuning = pd.DataFrame({'R-Square': Rsquare_xgb_tuning,'RMSE': rmse_xgb_tuning, 'MAE': mae_xgb_tuning, 'MAPE': mape_xgb_tuning}, index=model.keys())"
   ]
  },
  {
   "attachments": {},
   "cell_type": "markdown",
   "metadata": {},
   "source": [
    "#### Performance Comparison\n",
    "Perbandingan performa pada model XGBoost sebelum dan sesudah dilakukan proses Hyperparameter Tuning."
   ]
  },
  {
   "cell_type": "code",
   "execution_count": 77,
   "metadata": {},
   "outputs": [
    {
     "data": {
      "text/html": [
       "<div>\n",
       "<style scoped>\n",
       "    .dataframe tbody tr th:only-of-type {\n",
       "        vertical-align: middle;\n",
       "    }\n",
       "\n",
       "    .dataframe tbody tr th {\n",
       "        vertical-align: top;\n",
       "    }\n",
       "\n",
       "    .dataframe thead th {\n",
       "        text-align: right;\n",
       "    }\n",
       "</style>\n",
       "<table border=\"1\" class=\"dataframe\">\n",
       "  <thead>\n",
       "    <tr style=\"text-align: right;\">\n",
       "      <th></th>\n",
       "      <th>R-Square</th>\n",
       "      <th>RMSE</th>\n",
       "      <th>MAE</th>\n",
       "      <th>MAPE</th>\n",
       "    </tr>\n",
       "  </thead>\n",
       "  <tbody>\n",
       "    <tr>\n",
       "      <th>XGBoost Regressor</th>\n",
       "      <td>0.605058</td>\n",
       "      <td>24630.259371</td>\n",
       "      <td>15556.166456</td>\n",
       "      <td>1.045573</td>\n",
       "    </tr>\n",
       "  </tbody>\n",
       "</table>\n",
       "</div>"
      ],
      "text/plain": [
       "                   R-Square          RMSE           MAE      MAPE\n",
       "XGBoost Regressor  0.605058  24630.259371  15556.166456  1.045573"
      ]
     },
     "execution_count": 77,
     "metadata": {},
     "output_type": "execute_result"
    }
   ],
   "source": [
    "# Sebelum Dilakukan Proses Hyperparameter Tuning\n",
    "pd.DataFrame(score_before_tuning.loc['XGBoost Regressor']).T"
   ]
  },
  {
   "cell_type": "code",
   "execution_count": 78,
   "metadata": {},
   "outputs": [
    {
     "data": {
      "text/html": [
       "<div>\n",
       "<style scoped>\n",
       "    .dataframe tbody tr th:only-of-type {\n",
       "        vertical-align: middle;\n",
       "    }\n",
       "\n",
       "    .dataframe tbody tr th {\n",
       "        vertical-align: top;\n",
       "    }\n",
       "\n",
       "    .dataframe thead th {\n",
       "        text-align: right;\n",
       "    }\n",
       "</style>\n",
       "<table border=\"1\" class=\"dataframe\">\n",
       "  <thead>\n",
       "    <tr style=\"text-align: right;\">\n",
       "      <th></th>\n",
       "      <th>R-Square</th>\n",
       "      <th>RMSE</th>\n",
       "      <th>MAE</th>\n",
       "      <th>MAPE</th>\n",
       "    </tr>\n",
       "  </thead>\n",
       "  <tbody>\n",
       "    <tr>\n",
       "      <th>XGBoost Regressor</th>\n",
       "      <td>0.632565</td>\n",
       "      <td>23757.0356</td>\n",
       "      <td>14674.027803</td>\n",
       "      <td>0.980721</td>\n",
       "    </tr>\n",
       "  </tbody>\n",
       "</table>\n",
       "</div>"
      ],
      "text/plain": [
       "                   R-Square        RMSE           MAE      MAPE\n",
       "XGBoost Regressor  0.632565  23757.0356  14674.027803  0.980721"
      ]
     },
     "execution_count": 78,
     "metadata": {},
     "output_type": "execute_result"
    }
   ],
   "source": [
    "# Setelah Dilakukan Proses Hyperparameter Tuning\n",
    "score_after_tuning"
   ]
  },
  {
   "attachments": {},
   "cell_type": "markdown",
   "metadata": {},
   "source": [
    "- Berdasarkan perbandingan kinerja di atas, dapat terlihat bahwa model mengalami peningkatan dengan Hyperparameter Tuning. Nilai R-Square mengalami peningkatan sebesar 3%, serta model terbaru menghasilkan nilai RMSE, MAE, dan MAPE yang lebih kecil dibandingkan dengan sebelum dilakukan proses hyperparameter tuning."
   ]
  },
  {
   "cell_type": "code",
   "execution_count": 79,
   "metadata": {},
   "outputs": [
    {
     "data": {
      "image/png": "[encoded data removed]",
      "text/plain": [
       "<Figure size 1200x600 with 1 Axes>"
      ]
     },
     "metadata": {},
     "output_type": "display_data"
    }
   ],
   "source": [
    "plt.figure(figsize=(12, 6))\n",
    "plot = sns.scatterplot(x=y_test, y=y_pred_xgb_tuning).set(title= 'Actual VS Prediction Price', \n",
    "                                               xlabel= 'Actual Price', \n",
    "                                               ylabel= 'Predicted Price');"
   ]
  },
  {
   "attachments": {},
   "cell_type": "markdown",
   "metadata": {},
   "source": [
    "- Berdasarkan gambar scatter plot di atas menunjukkan bahwa masih banyak terdapat hasil nilai prediksi yang belum dapat memprediksi nilai aktual model dengan baik. Hal ini dapat dilihat juga dari harga prediksi mobil yang tinggi, tetapi memiliki harga aktual yang rendah atau begitu pula dengan sebaliknya."
   ]
  },
  {
   "attachments": {},
   "cell_type": "markdown",
   "metadata": {},
   "source": [
    "## 5.  Conclusion\n",
    "\n",
    "Berikut ini merupakan beberapa kesimpulan yang dapat diambil dari pembangunan model secara keseluruhan:\n",
    "\n",
    "- Fitur 'Year' dan 'Engine_Size' memiliki korelasi positif dengan fitur target 'Price', sedangkan fitur 'Mileage' berkorelasi negatif. Untuk fitur kategorikal, fitur 'Type' memiliki korelasi ratio yang paling baik terhadap fitur target 'Price' dibandingkan fitur kategorikal lainnya.\n",
    "- Terdapat beberapa batasan yang ditetapkan dalam membangun model ini, yaitu:\n",
    "\n",
    "    1. Mengeliminasi baris dengan isi data yang duplikat sebanyak 4 buah, baris dengan isi data == 0 dan 1 pada fitur 'Price' sebanyak 1796 dan 1 buah. Data-data tersebut harus dieliminasi supaya model yang dibangun dapat memprediksi dengan menggunakan harga yang nyata dan mendapatkan hasil prediksi yang baik, akan tetapi hal tersebut membuat jumlah observasi data menjadi cukup banyak berkurang.\n",
    "    2. Dalam memprediksi, model menggunakan data fitur 'Year' dengan nilai kurang dari atau sama dengan tahun 2025.\n",
    "    3. Dalam memprediksi, model menggunakan data fitur 'Engine_Size' dengan nilai kurang dari atau sama dengan 7.\n",
    "    4. Dalam memprediksi, model menggunakan data fitur 'Mileage' dengan nilai kurang dari 385500 km.\n",
    "    5. Dalam memprediksi, model menggunakan data fitur 'Price' dengan nilai kurang dari atau sama dengan 183750 Saudi Riyal (SAR).\n",
    "- Metrik evaluasi yang digunakan dalam pembangunan model ini adalah R-square, RMSE, MAE, dan MAPE. \n",
    "    - Nilai R-square menunjukkan seberapa besar pengaruh fitur-fitur (variabel independen) terhadap target (variabel dependen) secara menyeluruh. Jika dilihat nilai R-square yang dihasilkan oleh model XGBoost setelah dilakukan proses tuning hyperparameter lebih tinggi dibandingkan dengan model XGBoost sebelum dilakukan proses tuning hyperparameter. Nilai R-square tersebut adalah 0.632565, artinya fitur dapat menjelaskan 63.25% dari keseluruhan model.\n",
    "    - Nilai RMSE setelah dilakukan proses tuning hyperparameter adalah sebesar nilai 23757.04, artinya model yang dibangun untuk memprediksi harga mobil bekas di antara rentang harga 0 sampai dengan 183750 SAR, maka harga rata-rata dari prediksi tersebut akan meleset sekitar 23757.04 dari harga aktual. \n",
    "    - Harga prediksi tersebut bisa saja meleset lebih jauh lagi apabila dilihat dari nilai MAE dan MAPE yang besar sebelum dilakukan proses tuning hyperparameter. Beruntung nilai RMSE, MAE, dan MAPE dari model mengalami penurunan setelah dilakukan proses tuning hyperparameter. Hal ini menunjukkan bahwa proses tersebut berhasil meningkatkan kinerja model dan dapat membuat prediksi yang lebih baik."
   ]
  },
  {
   "attachments": {},
   "cell_type": "markdown",
   "metadata": {},
   "source": [
    "## 6.  Recommendation\n",
    "\n",
    "Berikut ini merupakan beberapa rekomendasi yang dapat diberikan dari pembangunan model agar dapat menghasilkan prediksi yang lebih baik:\n",
    "\n",
    "- Setelah dilakukan proses eliminasi berupa penghapusan baris data dengan nilai == 0 dan 1 SAR pada fitur 'Price', pembatasan nilai pada baris data di fitur 'Year', 'Engine_Size', 'Mileage', dan 'Price' karena adanya outlier, jumlah observasi data yang digunakan untuk pembangunan model hanya tersisa 3.408 baris data atau sekitar 40% dari jumlah pada dataframe awal. Oleh karena itu, untuk pembangunan model selanjutnya disarankan untuk menambahkan jumlah baris data yang akan digunakan, sehingga dapat menghasilkan prediksi yang lebih akurat, karena data yang digunakan pada pembangunan model saat ini sangat sedikit untuk bisa memberikan hasil prediksi yang maksimal.\n",
    "- Menambahkan beberapa fitur lain yang memiliki korelasi yang baik dengan fitur target 'Price'. Seperti warna mobil, kondisi interior dan eksterior mobil, kelengkapan dokumen (BPKB, STNK, dan Buku Manual), riwayat pemeliharaan mobil, dan riwayat kecelakaan. (Sumber: [What are the factors that influence a used car price?](https://carsellzone.com/blog/detail/factors-affect-car-price))\n",
    "- Menambahkan fitur yang dapat membedakan antara mobil classic dengan mobil biasa yang digunakan sehari-hari. Hal ini dikarenakan korelasi antara fitur 'Mileage' dengan target 'Price' antara mobil classic dengan mobil biasa memberikan hasil yang berbeda. Contohnya, mobil classic yang diproduksi pada tahun 1970 cenderung akan lebih mahal dibandingkan dengan mobil keluaran tahun 2005. Akan tetapi, untuk mengklasifikasikan hal tersebut diperlukan adanya domain knowledge mengenai jenis mobil apa saja yang dapat dikategorikan ke dalam jenis mobil classic."
   ]
  },
  {
   "attachments": {},
   "cell_type": "markdown",
   "metadata": {},
   "source": [
    "### Save Model"
   ]
  },
  {
   "cell_type": "code",
   "execution_count": 80,
   "metadata": {},
   "outputs": [],
   "source": [
    "# Menyimpan model\n",
    "import pickle\n",
    "\n",
    "estimator = Pipeline([('preprocess', transformer), ('model', XGBRegressor())])\n",
    "estimator.fit(X_train, y_train)\n",
    "\n",
    "pickle.dump(estimator, open('Model_SaudiUsedCarPrice_XGB_Pickle.sav', 'wb'))"
   ]
  },
  {
   "cell_type": "code",
   "execution_count": 81,
   "metadata": {},
   "outputs": [],
   "source": [
    "# Memuat model\n",
    "filename = 'Model_SaudiUsedCarPrice_XGB_Pickle.sav'\n",
    "loaded_model = pickle.load(open(filename, 'rb'))"
   ]
  }
 ],
 "metadata": {
  "kernelspec": {
   "display_name": "Python 3",
   "language": "python",
   "name": "python3"
  },
  "language_info": {
   "codemirror_mode": {
    "name": "ipython",
    "version": 3
   },
   "file_extension": ".py",
   "mimetype": "text/x-python",
   "name": "python",
   "nbconvert_exporter": "python",
   "pygments_lexer": "ipython3",
   "version": "3.11.1"
  },
  "orig_nbformat": 4
 },
 "nbformat": 4,
 "nbformat_minor": 2
}
